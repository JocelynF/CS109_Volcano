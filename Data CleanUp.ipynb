{
 "metadata": {
  "name": "",
  "signature": "sha256:d50d5993195d08fe9e45cf2a804cf2a31d04d4be1065a4dbde0735e39d36f9ec"
 },
 "nbformat": 3,
 "nbformat_minor": 0,
 "worksheets": [
  {
   "cells": [
    {
     "cell_type": "code",
     "collapsed": false,
     "input": [
      "import matplotlib.pyplot as plt\n",
      "import pandas as pd\n",
      "import numpy as np\n",
      "import cleanup\n",
      "\n",
      "%matplotlib inline"
     ],
     "language": "python",
     "metadata": {},
     "outputs": [],
     "prompt_number": 2
    },
    {
     "cell_type": "code",
     "collapsed": false,
     "input": [
      "eruptions = pd.io.excel.read_excel('Eruptions.xlsx', header = 1)\n",
      "volcanoes = pd.io.excel.read_excel('Volcanoes.xlsx', header = 1)\n",
      "eruptions.head()"
     ],
     "language": "python",
     "metadata": {},
     "outputs": [
      {
       "html": [
        "<div style=\"max-height:1000px;max-width:1500px;overflow:auto;\">\n",
        "<table border=\"1\" class=\"dataframe\">\n",
        "  <thead>\n",
        "    <tr style=\"text-align: right;\">\n",
        "      <th></th>\n",
        "      <th>Volcano Number</th>\n",
        "      <th>Volcano Name</th>\n",
        "      <th>Eruption Number</th>\n",
        "      <th>Eruption Category</th>\n",
        "      <th>Area of Activity</th>\n",
        "      <th>VEI</th>\n",
        "      <th>VEI Modifier</th>\n",
        "      <th>Start Year Modifier</th>\n",
        "      <th>Start Year</th>\n",
        "      <th>Start Year Uncertainty</th>\n",
        "      <th>...</th>\n",
        "      <th>Start Day</th>\n",
        "      <th>Start Day Uncertainty</th>\n",
        "      <th>Evidence Method (dating)</th>\n",
        "      <th>End Year Modifier</th>\n",
        "      <th>End Year</th>\n",
        "      <th>End Year Uncertainty</th>\n",
        "      <th>End Month</th>\n",
        "      <th>End Day Modifier</th>\n",
        "      <th>End Day</th>\n",
        "      <th>End Day Uncertainty</th>\n",
        "    </tr>\n",
        "  </thead>\n",
        "  <tbody>\n",
        "    <tr>\n",
        "      <th>0</th>\n",
        "      <td> 283040</td>\n",
        "      <td>          Ontakesan</td>\n",
        "      <td> 20964</td>\n",
        "      <td> Confirmed Eruption</td>\n",
        "      <td> Summit crater</td>\n",
        "      <td> 3</td>\n",
        "      <td> NaN</td>\n",
        "      <td> NaN</td>\n",
        "      <td> 2014</td>\n",
        "      <td>NaN</td>\n",
        "      <td>...</td>\n",
        "      <td> 27</td>\n",
        "      <td>NaN</td>\n",
        "      <td> Historical Observations</td>\n",
        "      <td> NaN</td>\n",
        "      <td>  NaN</td>\n",
        "      <td>NaN</td>\n",
        "      <td>NaN</td>\n",
        "      <td> NaN</td>\n",
        "      <td>NaN</td>\n",
        "      <td>NaN</td>\n",
        "    </tr>\n",
        "    <tr>\n",
        "      <th>1</th>\n",
        "      <td> 345020</td>\n",
        "      <td> Rincon de la Vieja</td>\n",
        "      <td> 20961</td>\n",
        "      <td> Confirmed Eruption</td>\n",
        "      <td>   Crater lake</td>\n",
        "      <td> 1</td>\n",
        "      <td> NaN</td>\n",
        "      <td> NaN</td>\n",
        "      <td> 2014</td>\n",
        "      <td>NaN</td>\n",
        "      <td>...</td>\n",
        "      <td> 17</td>\n",
        "      <td>NaN</td>\n",
        "      <td> Historical Observations</td>\n",
        "      <td> NaN</td>\n",
        "      <td> 2014</td>\n",
        "      <td>NaN</td>\n",
        "      <td>  9</td>\n",
        "      <td> NaN</td>\n",
        "      <td> 20</td>\n",
        "      <td>NaN</td>\n",
        "    </tr>\n",
        "    <tr>\n",
        "      <th>2</th>\n",
        "      <td> 260010</td>\n",
        "      <td>      Barren Island</td>\n",
        "      <td> 20958</td>\n",
        "      <td> Uncertain Eruption</td>\n",
        "      <td>           NaN</td>\n",
        "      <td> 1</td>\n",
        "      <td>   ?</td>\n",
        "      <td> NaN</td>\n",
        "      <td> 2014</td>\n",
        "      <td>NaN</td>\n",
        "      <td>...</td>\n",
        "      <td>  9</td>\n",
        "      <td>NaN</td>\n",
        "      <td> Historical Observations</td>\n",
        "      <td> NaN</td>\n",
        "      <td>  NaN</td>\n",
        "      <td>NaN</td>\n",
        "      <td>NaN</td>\n",
        "      <td> NaN</td>\n",
        "      <td>NaN</td>\n",
        "      <td>NaN</td>\n",
        "    </tr>\n",
        "    <tr>\n",
        "      <th>3</th>\n",
        "      <td> 251020</td>\n",
        "      <td>              Manam</td>\n",
        "      <td> 20956</td>\n",
        "      <td> Confirmed Eruption</td>\n",
        "      <td>           NaN</td>\n",
        "      <td> 2</td>\n",
        "      <td>   ?</td>\n",
        "      <td> NaN</td>\n",
        "      <td> 2014</td>\n",
        "      <td>NaN</td>\n",
        "      <td>...</td>\n",
        "      <td>  6</td>\n",
        "      <td>NaN</td>\n",
        "      <td> Historical Observations</td>\n",
        "      <td> NaN</td>\n",
        "      <td>  NaN</td>\n",
        "      <td>NaN</td>\n",
        "      <td>NaN</td>\n",
        "      <td> NaN</td>\n",
        "      <td>NaN</td>\n",
        "      <td>NaN</td>\n",
        "    </tr>\n",
        "    <tr>\n",
        "      <th>4</th>\n",
        "      <td> 282110</td>\n",
        "      <td>             Asosan</td>\n",
        "      <td> 20960</td>\n",
        "      <td> Confirmed Eruption</td>\n",
        "      <td>     Naka-dake</td>\n",
        "      <td> 2</td>\n",
        "      <td> NaN</td>\n",
        "      <td> NaN</td>\n",
        "      <td> 2014</td>\n",
        "      <td>NaN</td>\n",
        "      <td>...</td>\n",
        "      <td> 30</td>\n",
        "      <td>NaN</td>\n",
        "      <td> Historical Observations</td>\n",
        "      <td> NaN</td>\n",
        "      <td> 2014</td>\n",
        "      <td>NaN</td>\n",
        "      <td>  9</td>\n",
        "      <td> NaN</td>\n",
        "      <td>  6</td>\n",
        "      <td>NaN</td>\n",
        "    </tr>\n",
        "  </tbody>\n",
        "</table>\n",
        "<p>5 rows \u00d7 22 columns</p>\n",
        "</div>"
       ],
       "metadata": {},
       "output_type": "pyout",
       "prompt_number": 3,
       "text": [
        "   Volcano Number        Volcano Name  Eruption Number   Eruption Category  \\\n",
        "0          283040           Ontakesan            20964  Confirmed Eruption   \n",
        "1          345020  Rincon de la Vieja            20961  Confirmed Eruption   \n",
        "2          260010       Barren Island            20958  Uncertain Eruption   \n",
        "3          251020               Manam            20956  Confirmed Eruption   \n",
        "4          282110              Asosan            20960  Confirmed Eruption   \n",
        "\n",
        "  Area of Activity  VEI VEI Modifier Start Year Modifier  Start Year  \\\n",
        "0    Summit crater    3          NaN                 NaN        2014   \n",
        "1      Crater lake    1          NaN                 NaN        2014   \n",
        "2              NaN    1            ?                 NaN        2014   \n",
        "3              NaN    2            ?                 NaN        2014   \n",
        "4        Naka-dake    2          NaN                 NaN        2014   \n",
        "\n",
        "   Start Year Uncertainty           ...            Start Day  \\\n",
        "0                     NaN           ...                   27   \n",
        "1                     NaN           ...                   17   \n",
        "2                     NaN           ...                    9   \n",
        "3                     NaN           ...                    6   \n",
        "4                     NaN           ...                   30   \n",
        "\n",
        "  Start Day Uncertainty  Evidence Method (dating)  End Year Modifier End Year  \\\n",
        "0                   NaN   Historical Observations                NaN      NaN   \n",
        "1                   NaN   Historical Observations                NaN     2014   \n",
        "2                   NaN   Historical Observations                NaN      NaN   \n",
        "3                   NaN   Historical Observations                NaN      NaN   \n",
        "4                   NaN   Historical Observations                NaN     2014   \n",
        "\n",
        "  End Year Uncertainty  End Month  End Day Modifier  End Day  \\\n",
        "0                  NaN        NaN               NaN      NaN   \n",
        "1                  NaN          9               NaN       20   \n",
        "2                  NaN        NaN               NaN      NaN   \n",
        "3                  NaN        NaN               NaN      NaN   \n",
        "4                  NaN          9               NaN        6   \n",
        "\n",
        "  End Day Uncertainty  \n",
        "0                 NaN  \n",
        "1                 NaN  \n",
        "2                 NaN  \n",
        "3                 NaN  \n",
        "4                 NaN  \n",
        "\n",
        "[5 rows x 22 columns]"
       ]
      }
     ],
     "prompt_number": 3
    },
    {
     "cell_type": "code",
     "collapsed": false,
     "input": [
      "volcanoes.head()"
     ],
     "language": "python",
     "metadata": {},
     "outputs": [
      {
       "html": [
        "<div style=\"max-height:1000px;max-width:1500px;overflow:auto;\">\n",
        "<table border=\"1\" class=\"dataframe\">\n",
        "  <thead>\n",
        "    <tr style=\"text-align: right;\">\n",
        "      <th></th>\n",
        "      <th>Volcano Number</th>\n",
        "      <th>Volcano Name</th>\n",
        "      <th>Country</th>\n",
        "      <th>Primary Volcano Type</th>\n",
        "      <th>Activity Evidence</th>\n",
        "      <th>Last Known Eruption</th>\n",
        "      <th>Region</th>\n",
        "      <th>Subregion</th>\n",
        "      <th>Latitude</th>\n",
        "      <th>Longitude</th>\n",
        "      <th>Elevation (m)</th>\n",
        "      <th>Dominant Rock Type</th>\n",
        "      <th>Tectonic Setting</th>\n",
        "    </tr>\n",
        "  </thead>\n",
        "  <tbody>\n",
        "    <tr>\n",
        "      <th>0</th>\n",
        "      <td> 210010</td>\n",
        "      <td> West Eifel Volcanic Field</td>\n",
        "      <td> Germany</td>\n",
        "      <td>             Maar(s)</td>\n",
        "      <td>    Eruption Dated</td>\n",
        "      <td> 8300 BCE</td>\n",
        "      <td> Mediterranean and W Asia</td>\n",
        "      <td> Western Europe</td>\n",
        "      <td> 50.170</td>\n",
        "      <td>  6.85</td>\n",
        "      <td>  600</td>\n",
        "      <td>                          Foidite</td>\n",
        "      <td>       Rift zone / Continental crust (&gt;25 km)</td>\n",
        "    </tr>\n",
        "    <tr>\n",
        "      <th>1</th>\n",
        "      <td> 210020</td>\n",
        "      <td>           Chaine des Puys</td>\n",
        "      <td>  France</td>\n",
        "      <td>        Lava dome(s)</td>\n",
        "      <td>    Eruption Dated</td>\n",
        "      <td> 4040 BCE</td>\n",
        "      <td> Mediterranean and W Asia</td>\n",
        "      <td> Western Europe</td>\n",
        "      <td> 45.775</td>\n",
        "      <td>  2.97</td>\n",
        "      <td> 1464</td>\n",
        "      <td>            Basalt / Picro-Basalt</td>\n",
        "      <td>       Rift zone / Continental crust (&gt;25 km)</td>\n",
        "    </tr>\n",
        "    <tr>\n",
        "      <th>2</th>\n",
        "      <td> 210030</td>\n",
        "      <td>       Olot Volcanic Field</td>\n",
        "      <td>   Spain</td>\n",
        "      <td> Pyroclastic cone(s)</td>\n",
        "      <td>  Undated Evidence</td>\n",
        "      <td>  Unknown</td>\n",
        "      <td> Mediterranean and W Asia</td>\n",
        "      <td> Western Europe</td>\n",
        "      <td> 42.170</td>\n",
        "      <td>  2.53</td>\n",
        "      <td>  893</td>\n",
        "      <td> Trachybasalt / Tephrite Basanite</td>\n",
        "      <td>      Intraplate / Continental crust (&gt;25 km)</td>\n",
        "    </tr>\n",
        "    <tr>\n",
        "      <th>3</th>\n",
        "      <td> 210040</td>\n",
        "      <td>  Calatrava Volcanic Field</td>\n",
        "      <td>   Spain</td>\n",
        "      <td> Pyroclastic cone(s)</td>\n",
        "      <td>    Eruption Dated</td>\n",
        "      <td> 3600 BCE</td>\n",
        "      <td> Mediterranean and W Asia</td>\n",
        "      <td> Western Europe</td>\n",
        "      <td> 38.870</td>\n",
        "      <td> -4.02</td>\n",
        "      <td> 1117</td>\n",
        "      <td>            Basalt / Picro-Basalt</td>\n",
        "      <td>      Intraplate / Continental crust (&gt;25 km)</td>\n",
        "    </tr>\n",
        "    <tr>\n",
        "      <th>4</th>\n",
        "      <td> 211001</td>\n",
        "      <td>                Larderello</td>\n",
        "      <td>   Italy</td>\n",
        "      <td> Explosion crater(s)</td>\n",
        "      <td> Eruption Observed</td>\n",
        "      <td>  1282 CE</td>\n",
        "      <td> Mediterranean and W Asia</td>\n",
        "      <td>          Italy</td>\n",
        "      <td> 43.250</td>\n",
        "      <td> 10.87</td>\n",
        "      <td>  500</td>\n",
        "      <td>                No Data (checked)</td>\n",
        "      <td> Subduction zone / Continental crust (&gt;25 km)</td>\n",
        "    </tr>\n",
        "  </tbody>\n",
        "</table>\n",
        "</div>"
       ],
       "metadata": {},
       "output_type": "pyout",
       "prompt_number": 3,
       "text": [
        "   Volcano Number               Volcano Name  Country Primary Volcano Type  \\\n",
        "0          210010  West Eifel Volcanic Field  Germany              Maar(s)   \n",
        "1          210020            Chaine des Puys   France         Lava dome(s)   \n",
        "2          210030        Olot Volcanic Field    Spain  Pyroclastic cone(s)   \n",
        "3          210040   Calatrava Volcanic Field    Spain  Pyroclastic cone(s)   \n",
        "4          211001                 Larderello    Italy  Explosion crater(s)   \n",
        "\n",
        "   Activity Evidence Last Known Eruption                    Region  \\\n",
        "0     Eruption Dated            8300 BCE  Mediterranean and W Asia   \n",
        "1     Eruption Dated            4040 BCE  Mediterranean and W Asia   \n",
        "2   Undated Evidence             Unknown  Mediterranean and W Asia   \n",
        "3     Eruption Dated            3600 BCE  Mediterranean and W Asia   \n",
        "4  Eruption Observed             1282 CE  Mediterranean and W Asia   \n",
        "\n",
        "        Subregion  Latitude  Longitude  Elevation (m)  \\\n",
        "0  Western Europe    50.170       6.85            600   \n",
        "1  Western Europe    45.775       2.97           1464   \n",
        "2  Western Europe    42.170       2.53            893   \n",
        "3  Western Europe    38.870      -4.02           1117   \n",
        "4           Italy    43.250      10.87            500   \n",
        "\n",
        "                 Dominant Rock Type  \\\n",
        "0                           Foidite   \n",
        "1             Basalt / Picro-Basalt   \n",
        "2  Trachybasalt / Tephrite Basanite   \n",
        "3             Basalt / Picro-Basalt   \n",
        "4                 No Data (checked)   \n",
        "\n",
        "                               Tectonic Setting  \n",
        "0        Rift zone / Continental crust (>25 km)  \n",
        "1        Rift zone / Continental crust (>25 km)  \n",
        "2       Intraplate / Continental crust (>25 km)  \n",
        "3       Intraplate / Continental crust (>25 km)  \n",
        "4  Subduction zone / Continental crust (>25 km)  "
       ]
      }
     ],
     "prompt_number": 3
    },
    {
     "cell_type": "code",
     "collapsed": false,
     "input": [
      "eruptions.columns"
     ],
     "language": "python",
     "metadata": {},
     "outputs": [
      {
       "metadata": {},
       "output_type": "pyout",
       "prompt_number": 4,
       "text": [
        "Index([u'Volcano Number', u'Volcano Name', u'Eruption Number', u'Eruption Category', u'Area of Activity', u'VEI', u'VEI Modifier', u'Start Year Modifier', u'Start Year', u'Start Year Uncertainty', u'Start Month', u'Start Day Modifier', u'Start Day', u'Start Day Uncertainty', u'Evidence Method (dating)', u'End Year Modifier', u'End Year', u'End Year Uncertainty', u'End Month', u'End Day Modifier', u'End Day', u'End Day Uncertainty'], dtype='object')"
       ]
      }
     ],
     "prompt_number": 4
    },
    {
     "cell_type": "code",
     "collapsed": false,
     "input": [
      "volcanoes.columns"
     ],
     "language": "python",
     "metadata": {},
     "outputs": [
      {
       "metadata": {},
       "output_type": "pyout",
       "prompt_number": 5,
       "text": [
        "Index([u'Volcano Number', u'Volcano Name', u'Country', u'Primary Volcano Type', u'Activity Evidence', u'Last Known Eruption', u'Region', u'Subregion', u'Latitude', u'Longitude', u'Elevation (m)', u'Dominant Rock Type', u'Tectonic Setting'], dtype='object')"
       ]
      }
     ],
     "prompt_number": 5
    },
    {
     "cell_type": "markdown",
     "metadata": {},
     "source": [
      "### Only explore confirmed eruptions"
     ]
    },
    {
     "cell_type": "code",
     "collapsed": false,
     "input": [
      "conf_erup = eruptions[eruptions['Eruption Category'] == 'Confirmed Eruption']\n",
      "print 'Amount of Confirmed Eruptions:', conf_erup.shape[0]"
     ],
     "language": "python",
     "metadata": {},
     "outputs": [
      {
       "output_type": "stream",
       "stream": "stdout",
       "text": [
        "Amount of Confirmed Eruptions: 9536\n"
       ]
      }
     ],
     "prompt_number": 6
    },
    {
     "cell_type": "code",
     "collapsed": false,
     "input": [
      "conf_erup.head()"
     ],
     "language": "python",
     "metadata": {},
     "outputs": [
      {
       "html": [
        "<div style=\"max-height:1000px;max-width:1500px;overflow:auto;\">\n",
        "<table border=\"1\" class=\"dataframe\">\n",
        "  <thead>\n",
        "    <tr style=\"text-align: right;\">\n",
        "      <th></th>\n",
        "      <th>Volcano Number</th>\n",
        "      <th>Volcano Name</th>\n",
        "      <th>Eruption Number</th>\n",
        "      <th>Eruption Category</th>\n",
        "      <th>Area of Activity</th>\n",
        "      <th>VEI</th>\n",
        "      <th>VEI Modifier</th>\n",
        "      <th>Start Year Modifier</th>\n",
        "      <th>Start Year</th>\n",
        "      <th>Start Year Uncertainty</th>\n",
        "      <th>...</th>\n",
        "      <th>Start Day</th>\n",
        "      <th>Start Day Uncertainty</th>\n",
        "      <th>Evidence Method (dating)</th>\n",
        "      <th>End Year Modifier</th>\n",
        "      <th>End Year</th>\n",
        "      <th>End Year Uncertainty</th>\n",
        "      <th>End Month</th>\n",
        "      <th>End Day Modifier</th>\n",
        "      <th>End Day</th>\n",
        "      <th>End Day Uncertainty</th>\n",
        "    </tr>\n",
        "  </thead>\n",
        "  <tbody>\n",
        "    <tr>\n",
        "      <th>0</th>\n",
        "      <td> 283040</td>\n",
        "      <td>          Ontakesan</td>\n",
        "      <td> 20964</td>\n",
        "      <td> Confirmed Eruption</td>\n",
        "      <td> Summit crater</td>\n",
        "      <td>  3</td>\n",
        "      <td> NaN</td>\n",
        "      <td> NaN</td>\n",
        "      <td> 2014</td>\n",
        "      <td>NaN</td>\n",
        "      <td>...</td>\n",
        "      <td> 27</td>\n",
        "      <td>NaN</td>\n",
        "      <td> Historical Observations</td>\n",
        "      <td> NaN</td>\n",
        "      <td>  NaN</td>\n",
        "      <td>NaN</td>\n",
        "      <td>NaN</td>\n",
        "      <td> NaN</td>\n",
        "      <td>NaN</td>\n",
        "      <td>NaN</td>\n",
        "    </tr>\n",
        "    <tr>\n",
        "      <th>1</th>\n",
        "      <td> 345020</td>\n",
        "      <td> Rincon de la Vieja</td>\n",
        "      <td> 20961</td>\n",
        "      <td> Confirmed Eruption</td>\n",
        "      <td>   Crater lake</td>\n",
        "      <td>  1</td>\n",
        "      <td> NaN</td>\n",
        "      <td> NaN</td>\n",
        "      <td> 2014</td>\n",
        "      <td>NaN</td>\n",
        "      <td>...</td>\n",
        "      <td> 17</td>\n",
        "      <td>NaN</td>\n",
        "      <td> Historical Observations</td>\n",
        "      <td> NaN</td>\n",
        "      <td> 2014</td>\n",
        "      <td>NaN</td>\n",
        "      <td>  9</td>\n",
        "      <td> NaN</td>\n",
        "      <td> 20</td>\n",
        "      <td>NaN</td>\n",
        "    </tr>\n",
        "    <tr>\n",
        "      <th>3</th>\n",
        "      <td> 251020</td>\n",
        "      <td>              Manam</td>\n",
        "      <td> 20956</td>\n",
        "      <td> Confirmed Eruption</td>\n",
        "      <td>           NaN</td>\n",
        "      <td>  2</td>\n",
        "      <td>   ?</td>\n",
        "      <td> NaN</td>\n",
        "      <td> 2014</td>\n",
        "      <td>NaN</td>\n",
        "      <td>...</td>\n",
        "      <td>  6</td>\n",
        "      <td>NaN</td>\n",
        "      <td> Historical Observations</td>\n",
        "      <td> NaN</td>\n",
        "      <td>  NaN</td>\n",
        "      <td>NaN</td>\n",
        "      <td>NaN</td>\n",
        "      <td> NaN</td>\n",
        "      <td>NaN</td>\n",
        "      <td>NaN</td>\n",
        "    </tr>\n",
        "    <tr>\n",
        "      <th>4</th>\n",
        "      <td> 282110</td>\n",
        "      <td>             Asosan</td>\n",
        "      <td> 20960</td>\n",
        "      <td> Confirmed Eruption</td>\n",
        "      <td>     Naka-dake</td>\n",
        "      <td>  2</td>\n",
        "      <td> NaN</td>\n",
        "      <td> NaN</td>\n",
        "      <td> 2014</td>\n",
        "      <td>NaN</td>\n",
        "      <td>...</td>\n",
        "      <td> 30</td>\n",
        "      <td>NaN</td>\n",
        "      <td> Historical Observations</td>\n",
        "      <td> NaN</td>\n",
        "      <td> 2014</td>\n",
        "      <td>NaN</td>\n",
        "      <td>  9</td>\n",
        "      <td> NaN</td>\n",
        "      <td>  6</td>\n",
        "      <td>NaN</td>\n",
        "    </tr>\n",
        "    <tr>\n",
        "      <th>5</th>\n",
        "      <td> 252140</td>\n",
        "      <td>             Rabaul</td>\n",
        "      <td> 20957</td>\n",
        "      <td> Confirmed Eruption</td>\n",
        "      <td>      Tavurvur</td>\n",
        "      <td>NaN</td>\n",
        "      <td> NaN</td>\n",
        "      <td> NaN</td>\n",
        "      <td> 2014</td>\n",
        "      <td>NaN</td>\n",
        "      <td>...</td>\n",
        "      <td> 29</td>\n",
        "      <td>NaN</td>\n",
        "      <td> Historical Observations</td>\n",
        "      <td> NaN</td>\n",
        "      <td> 2014</td>\n",
        "      <td>NaN</td>\n",
        "      <td>  9</td>\n",
        "      <td>   ?</td>\n",
        "      <td> 18</td>\n",
        "      <td>NaN</td>\n",
        "    </tr>\n",
        "  </tbody>\n",
        "</table>\n",
        "<p>5 rows \u00d7 22 columns</p>\n",
        "</div>"
       ],
       "metadata": {},
       "output_type": "pyout",
       "prompt_number": 7,
       "text": [
        "   Volcano Number        Volcano Name  Eruption Number   Eruption Category  \\\n",
        "0          283040           Ontakesan            20964  Confirmed Eruption   \n",
        "1          345020  Rincon de la Vieja            20961  Confirmed Eruption   \n",
        "3          251020               Manam            20956  Confirmed Eruption   \n",
        "4          282110              Asosan            20960  Confirmed Eruption   \n",
        "5          252140              Rabaul            20957  Confirmed Eruption   \n",
        "\n",
        "  Area of Activity  VEI VEI Modifier Start Year Modifier  Start Year  \\\n",
        "0    Summit crater    3          NaN                 NaN        2014   \n",
        "1      Crater lake    1          NaN                 NaN        2014   \n",
        "3              NaN    2            ?                 NaN        2014   \n",
        "4        Naka-dake    2          NaN                 NaN        2014   \n",
        "5         Tavurvur  NaN          NaN                 NaN        2014   \n",
        "\n",
        "   Start Year Uncertainty           ...            Start Day  \\\n",
        "0                     NaN           ...                   27   \n",
        "1                     NaN           ...                   17   \n",
        "3                     NaN           ...                    6   \n",
        "4                     NaN           ...                   30   \n",
        "5                     NaN           ...                   29   \n",
        "\n",
        "  Start Day Uncertainty  Evidence Method (dating)  End Year Modifier End Year  \\\n",
        "0                   NaN   Historical Observations                NaN      NaN   \n",
        "1                   NaN   Historical Observations                NaN     2014   \n",
        "3                   NaN   Historical Observations                NaN      NaN   \n",
        "4                   NaN   Historical Observations                NaN     2014   \n",
        "5                   NaN   Historical Observations                NaN     2014   \n",
        "\n",
        "  End Year Uncertainty  End Month  End Day Modifier  End Day  \\\n",
        "0                  NaN        NaN               NaN      NaN   \n",
        "1                  NaN          9               NaN       20   \n",
        "3                  NaN        NaN               NaN      NaN   \n",
        "4                  NaN          9               NaN        6   \n",
        "5                  NaN          9                 ?       18   \n",
        "\n",
        "  End Day Uncertainty  \n",
        "0                 NaN  \n",
        "1                 NaN  \n",
        "3                 NaN  \n",
        "4                 NaN  \n",
        "5                 NaN  \n",
        "\n",
        "[5 rows x 22 columns]"
       ]
      }
     ],
     "prompt_number": 7
    },
    {
     "cell_type": "markdown",
     "metadata": {},
     "source": [
      "### Only explore eruptions with no uncertainty in the start day"
     ]
    },
    {
     "cell_type": "code",
     "collapsed": false,
     "input": [
      "print conf_erup['Start Day'].unique()\n",
      "print conf_erup['Start Month'].unique()\n",
      "## Notice that there are some zeroes and nans"
     ],
     "language": "python",
     "metadata": {},
     "outputs": [
      {
       "output_type": "stream",
       "stream": "stdout",
       "text": [
        "[ 27.  17.   6.  30.  29.  13.   3.   4.  22.  21.  31.  24.  26.   9.   8.\n",
        "   7.  28.  20.  18.  23.  12.  15.  25.  11.   2.   5.  16.  19.   1.  10.\n",
        "  14.   0.  nan]\n",
        "[  9.   8.   7.   6.   5.   4.   3.   2.   1.  12.  11.  10.   0.  nan]\n"
       ]
      }
     ],
     "prompt_number": 8
    },
    {
     "cell_type": "code",
     "collapsed": false,
     "input": [
      "conf_erup = conf_erup[(conf_erup['Start Month'] != 0) & (conf_erup['Start Day'] != 0)]\n",
      "conf_erup = cleanup.eliminate_nan(conf_erup, 'Start Day')\n",
      "conf_erup = cleanup.eliminate_nan(conf_erup, 'Start Month')"
     ],
     "language": "python",
     "metadata": {},
     "outputs": [],
     "prompt_number": 9
    },
    {
     "cell_type": "code",
     "collapsed": false,
     "input": [
      "print conf_erup['Start Day'].unique()\n",
      "print conf_erup['Start Month'].unique()"
     ],
     "language": "python",
     "metadata": {},
     "outputs": [
      {
       "output_type": "stream",
       "stream": "stdout",
       "text": [
        "[ 27.  17.   6.  30.  29.  13.   3.   4.  22.  21.  31.  24.  26.   9.   8.\n",
        "   7.  28.  20.  18.  23.  12.  15.  25.  11.   2.   5.  16.  19.   1.  10.\n",
        "  14.]\n",
        "[  9.   8.   7.   6.   5.   4.   3.   2.   1.  12.  11.  10.]\n"
       ]
      }
     ],
     "prompt_number": 10
    },
    {
     "cell_type": "code",
     "collapsed": false,
     "input": [
      "## Check uncertainty in dates\n",
      "\n",
      "print conf_erup['Start Day Uncertainty'].unique()\n",
      "print conf_erup['Start Year Uncertainty'].unique()\n",
      "print 'Number of Confirmed Eruptions with Start Days and Months:', conf_erup.shape[0]"
     ],
     "language": "python",
     "metadata": {},
     "outputs": [
      {
       "output_type": "stream",
       "stream": "stdout",
       "text": [
        "[  nan    2.    4.    3.    7.    5.    1.   12.   20.  150.  180.   30.\n",
        "   90.   15.    9.  365.   45.    8.  270.   75.   60.  120.   10.    6.\n",
        "  730.]\n",
        "[ nan  10.  13.]\n",
        "Number of Confirmed Eruptions with Start Days and Months: 3950\n"
       ]
      }
     ],
     "prompt_number": 11
    },
    {
     "cell_type": "code",
     "collapsed": false,
     "input": [
      "# Only accept nan's in uncertainty\n",
      "conf_erup = conf_erup[conf_erup['Start Day Uncertainty'].isnull()]\n",
      "conf_erup = conf_erup[conf_erup['Start Year Uncertainty'].isnull()]\n",
      "\n",
      "print 'Number of Confirmed Eruptions with No Uncertain Start Dates:', conf_erup.shape[0]"
     ],
     "language": "python",
     "metadata": {},
     "outputs": [
      {
       "output_type": "stream",
       "stream": "stdout",
       "text": [
        "Number of Confirmed Eruptions with No Uncertain Start Dates: 3624\n"
       ]
      }
     ],
     "prompt_number": 12
    },
    {
     "cell_type": "code",
     "collapsed": false,
     "input": [
      "print 'Number of Volcanoes In Confirmed Eruptions Dataset:', conf_erup['Volcano Number'].unique().shape[0]"
     ],
     "language": "python",
     "metadata": {},
     "outputs": [
      {
       "output_type": "stream",
       "stream": "stdout",
       "text": [
        "Number of Volcanoes In Confirmed Eruptions Dataset: 457\n"
       ]
      }
     ],
     "prompt_number": 13
    },
    {
     "cell_type": "heading",
     "level": 1,
     "metadata": {},
     "source": [
      "Volcano and Eruption Features"
     ]
    },
    {
     "cell_type": "code",
     "collapsed": false,
     "input": [
      "year_min = conf_erup['Start Year'].min()\n",
      "year_max = conf_erup['Start Year'].max()\n",
      "print 'Start Date Range:', year_max - year_min, 'years'"
     ],
     "language": "python",
     "metadata": {},
     "outputs": [
      {
       "output_type": "stream",
       "stream": "stdout",
       "text": [
        "Start Date Range: 1968 years\n"
       ]
      }
     ],
     "prompt_number": 14
    },
    {
     "cell_type": "code",
     "collapsed": false,
     "input": [
      "conf_erup['Start Year'].hist(figsize = (15,6), bins = 100, log=True)\n",
      "plt.xlim([0,2100])\n",
      "plt.show()\n",
      "\n",
      "#Values are highly skewed to more recent dates...as expected"
     ],
     "language": "python",
     "metadata": {},
     "outputs": [
      {
       "metadata": {},
       "output_type": "display_data",
       "png": "[encoded data removed]",
       "text": [
        "<matplotlib.figure.Figure at 0x121dcb00>"
       ]
      }
     ],
     "prompt_number": 15
    },
    {
     "cell_type": "code",
     "collapsed": false,
     "input": [
      "#Convert dates --- 2 days are on 2/29, one of those days is not actually a leap year---raises error---changed date from 2/29 to 2/28\n",
      "from datetime import datetime\n",
      "conf_erup['Start Day'][6724] = 28\n",
      "conf_erup = cleanup.convert_dates(conf_erup, 'Start Year', 'Start Month', 'Start Day', 'Start Date')\n",
      "conf_erup = cleanup.julian_date(conf_erup, 'Start Date', 'Julian Dates')"
     ],
     "language": "python",
     "metadata": {},
     "outputs": [
      {
       "ename": "OutOfBoundsDatetime",
       "evalue": "Out of bounds nanosecond timestamp: 1675-02-16 00:00:00",
       "output_type": "pyerr",
       "traceback": [
        "\u001b[1;31m---------------------------------------------------------------------------\u001b[0m\n\u001b[1;31mOutOfBoundsDatetime\u001b[0m                       Traceback (most recent call last)",
        "\u001b[1;32m<ipython-input-31-c5f7fc32c028>\u001b[0m in \u001b[0;36m<module>\u001b[1;34m()\u001b[0m\n\u001b[0;32m      2\u001b[0m \u001b[1;32mfrom\u001b[0m \u001b[0mdatetime\u001b[0m \u001b[1;32mimport\u001b[0m \u001b[0mdatetime\u001b[0m\u001b[1;33m\u001b[0m\u001b[0m\n\u001b[0;32m      3\u001b[0m \u001b[0mconf_erup\u001b[0m\u001b[1;33m[\u001b[0m\u001b[1;34m'Start Day'\u001b[0m\u001b[1;33m]\u001b[0m\u001b[1;33m[\u001b[0m\u001b[1;36m6724\u001b[0m\u001b[1;33m]\u001b[0m \u001b[1;33m=\u001b[0m \u001b[1;36m28\u001b[0m\u001b[1;33m\u001b[0m\u001b[0m\n\u001b[1;32m----> 4\u001b[1;33m \u001b[0mconf_erup\u001b[0m \u001b[1;33m=\u001b[0m \u001b[0mcleanup\u001b[0m\u001b[1;33m.\u001b[0m\u001b[0mconvert_dates\u001b[0m\u001b[1;33m(\u001b[0m\u001b[0mconf_erup\u001b[0m\u001b[1;33m,\u001b[0m \u001b[1;34m'Start Year'\u001b[0m\u001b[1;33m,\u001b[0m \u001b[1;34m'Start Month'\u001b[0m\u001b[1;33m,\u001b[0m \u001b[1;34m'Start Day'\u001b[0m\u001b[1;33m,\u001b[0m \u001b[1;34m'Start Date'\u001b[0m\u001b[1;33m)\u001b[0m\u001b[1;33m\u001b[0m\u001b[0m\n\u001b[0m\u001b[0;32m      5\u001b[0m \u001b[0mconf_erup\u001b[0m \u001b[1;33m=\u001b[0m \u001b[0mcleanup\u001b[0m\u001b[1;33m.\u001b[0m\u001b[0mjulian_date\u001b[0m\u001b[1;33m(\u001b[0m\u001b[0mconf_erup\u001b[0m\u001b[1;33m,\u001b[0m \u001b[1;34m'Start Date'\u001b[0m\u001b[1;33m,\u001b[0m \u001b[1;34m'Julian Dates'\u001b[0m\u001b[1;33m)\u001b[0m\u001b[1;33m\u001b[0m\u001b[0m\n",
        "\u001b[1;32mC:\\Users\\Jocelyn\\Dropbox\\CS109 Project\\CS109_Volcano\\cleanup.py\u001b[0m in \u001b[0;36mconvert_dates\u001b[1;34m(df, year_col, month_col, day_col, new_col_name)\u001b[0m\n\u001b[0;32m      4\u001b[0m \u001b[1;33m\u001b[0m\u001b[0m\n\u001b[0;32m      5\u001b[0m \u001b[1;32mdef\u001b[0m \u001b[0mconvert_dates\u001b[0m\u001b[1;33m(\u001b[0m\u001b[0mdf\u001b[0m\u001b[1;33m,\u001b[0m \u001b[0myear_col\u001b[0m\u001b[1;33m,\u001b[0m \u001b[0mmonth_col\u001b[0m\u001b[1;33m,\u001b[0m \u001b[0mday_col\u001b[0m\u001b[1;33m,\u001b[0m \u001b[0mnew_col_name\u001b[0m\u001b[1;33m)\u001b[0m\u001b[1;33m:\u001b[0m\u001b[1;33m\u001b[0m\u001b[0m\n\u001b[1;32m----> 6\u001b[1;33m     \u001b[0mdf\u001b[0m\u001b[1;33m[\u001b[0m\u001b[0mdf\u001b[0m\u001b[1;33m[\u001b[0m\u001b[0mmonth_col\u001b[0m\u001b[1;33m]\u001b[0m\u001b[1;33m==\u001b[0m\u001b[1;36m2\u001b[0m\u001b[1;33m]\u001b[0m\u001b[1;33m.\u001b[0m\u001b[0mreplace\u001b[0m\u001b[1;33m(\u001b[0m\u001b[1;36m29\u001b[0m\u001b[1;33m,\u001b[0m\u001b[1;36m28\u001b[0m\u001b[1;33m,\u001b[0m\u001b[0minplace\u001b[0m\u001b[1;33m=\u001b[0m\u001b[0mTrue\u001b[0m\u001b[1;33m)\u001b[0m\u001b[1;33m\u001b[0m\u001b[0m\n\u001b[0m\u001b[0;32m      7\u001b[0m     \u001b[0mdf\u001b[0m\u001b[1;33m[\u001b[0m\u001b[0mnew_col_name\u001b[0m\u001b[1;33m]\u001b[0m \u001b[1;33m=\u001b[0m \u001b[0mdf\u001b[0m\u001b[1;33m.\u001b[0m\u001b[0mapply\u001b[0m\u001b[1;33m(\u001b[0m\u001b[1;32mlambda\u001b[0m \u001b[0mrow\u001b[0m\u001b[1;33m:\u001b[0m \u001b[0mdatetime\u001b[0m\u001b[1;33m(\u001b[0m\u001b[0mint\u001b[0m\u001b[1;33m(\u001b[0m\u001b[0mrow\u001b[0m\u001b[1;33m[\u001b[0m\u001b[0myear_col\u001b[0m\u001b[1;33m]\u001b[0m\u001b[1;33m)\u001b[0m\u001b[1;33m,\u001b[0m \u001b[0mint\u001b[0m\u001b[1;33m(\u001b[0m\u001b[0mrow\u001b[0m\u001b[1;33m[\u001b[0m\u001b[0mmonth_col\u001b[0m\u001b[1;33m]\u001b[0m\u001b[1;33m)\u001b[0m\u001b[1;33m,\u001b[0m \u001b[0mint\u001b[0m\u001b[1;33m(\u001b[0m\u001b[0mrow\u001b[0m\u001b[1;33m[\u001b[0m\u001b[0mday_col\u001b[0m\u001b[1;33m]\u001b[0m\u001b[1;33m)\u001b[0m\u001b[1;33m)\u001b[0m\u001b[1;33m,\u001b[0m \u001b[0maxis\u001b[0m\u001b[1;33m=\u001b[0m\u001b[1;36m1\u001b[0m\u001b[1;33m)\u001b[0m\u001b[1;33m\u001b[0m\u001b[0m\n\u001b[0;32m      8\u001b[0m     \u001b[1;32mreturn\u001b[0m \u001b[0mdf\u001b[0m\u001b[1;33m\u001b[0m\u001b[0m\n",
        "\u001b[1;32mC:\\Users\\Jocelyn\\Anaconda\\lib\\site-packages\\pandas\\core\\generic.pyc\u001b[0m in \u001b[0;36mreplace\u001b[1;34m(self, to_replace, value, inplace, limit, regex, method, axis)\u001b[0m\n\u001b[0;32m   2519\u001b[0m                     \u001b[1;32mraise\u001b[0m \u001b[0mTypeError\u001b[0m\u001b[1;33m(\u001b[0m\u001b[0mmsg\u001b[0m\u001b[1;33m)\u001b[0m  \u001b[1;31m# pragma: no cover\u001b[0m\u001b[1;33m\u001b[0m\u001b[0m\n\u001b[0;32m   2520\u001b[0m \u001b[1;33m\u001b[0m\u001b[0m\n\u001b[1;32m-> 2521\u001b[1;33m         \u001b[0mnew_data\u001b[0m \u001b[1;33m=\u001b[0m \u001b[0mnew_data\u001b[0m\u001b[1;33m.\u001b[0m\u001b[0mconvert\u001b[0m\u001b[1;33m(\u001b[0m\u001b[0mcopy\u001b[0m\u001b[1;33m=\u001b[0m\u001b[1;32mnot\u001b[0m \u001b[0minplace\u001b[0m\u001b[1;33m,\u001b[0m \u001b[0mconvert_numeric\u001b[0m\u001b[1;33m=\u001b[0m\u001b[0mFalse\u001b[0m\u001b[1;33m)\u001b[0m\u001b[1;33m\u001b[0m\u001b[0m\n\u001b[0m\u001b[0;32m   2522\u001b[0m \u001b[1;33m\u001b[0m\u001b[0m\n\u001b[0;32m   2523\u001b[0m         \u001b[1;32mif\u001b[0m \u001b[0minplace\u001b[0m\u001b[1;33m:\u001b[0m\u001b[1;33m\u001b[0m\u001b[0m\n",
        "\u001b[1;32mC:\\Users\\Jocelyn\\Anaconda\\lib\\site-packages\\pandas\\core\\internals.pyc\u001b[0m in \u001b[0;36mconvert\u001b[1;34m(self, **kwargs)\u001b[0m\n\u001b[0;32m   2238\u001b[0m \u001b[1;33m\u001b[0m\u001b[0m\n\u001b[0;32m   2239\u001b[0m     \u001b[1;32mdef\u001b[0m \u001b[0mconvert\u001b[0m\u001b[1;33m(\u001b[0m\u001b[0mself\u001b[0m\u001b[1;33m,\u001b[0m \u001b[1;33m**\u001b[0m\u001b[0mkwargs\u001b[0m\u001b[1;33m)\u001b[0m\u001b[1;33m:\u001b[0m\u001b[1;33m\u001b[0m\u001b[0m\n\u001b[1;32m-> 2240\u001b[1;33m         \u001b[1;32mreturn\u001b[0m \u001b[0mself\u001b[0m\u001b[1;33m.\u001b[0m\u001b[0mapply\u001b[0m\u001b[1;33m(\u001b[0m\u001b[1;34m'convert'\u001b[0m\u001b[1;33m,\u001b[0m \u001b[1;33m**\u001b[0m\u001b[0mkwargs\u001b[0m\u001b[1;33m)\u001b[0m\u001b[1;33m\u001b[0m\u001b[0m\n\u001b[0m\u001b[0;32m   2241\u001b[0m \u001b[1;33m\u001b[0m\u001b[0m\n\u001b[0;32m   2242\u001b[0m     \u001b[1;32mdef\u001b[0m \u001b[0mreplace\u001b[0m\u001b[1;33m(\u001b[0m\u001b[0mself\u001b[0m\u001b[1;33m,\u001b[0m \u001b[1;33m**\u001b[0m\u001b[0mkwargs\u001b[0m\u001b[1;33m)\u001b[0m\u001b[1;33m:\u001b[0m\u001b[1;33m\u001b[0m\u001b[0m\n",
        "\u001b[1;32mC:\\Users\\Jocelyn\\Anaconda\\lib\\site-packages\\pandas\\core\\internals.pyc\u001b[0m in \u001b[0;36mapply\u001b[1;34m(self, f, axes, filter, do_integrity_check, **kwargs)\u001b[0m\n\u001b[0;32m   2190\u001b[0m                                                  copy=align_copy)\n\u001b[0;32m   2191\u001b[0m \u001b[1;33m\u001b[0m\u001b[0m\n\u001b[1;32m-> 2192\u001b[1;33m             \u001b[0mapplied\u001b[0m \u001b[1;33m=\u001b[0m \u001b[0mgetattr\u001b[0m\u001b[1;33m(\u001b[0m\u001b[0mb\u001b[0m\u001b[1;33m,\u001b[0m \u001b[0mf\u001b[0m\u001b[1;33m)\u001b[0m\u001b[1;33m(\u001b[0m\u001b[1;33m**\u001b[0m\u001b[0mkwargs\u001b[0m\u001b[1;33m)\u001b[0m\u001b[1;33m\u001b[0m\u001b[0m\n\u001b[0m\u001b[0;32m   2193\u001b[0m \u001b[1;33m\u001b[0m\u001b[0m\n\u001b[0;32m   2194\u001b[0m             \u001b[1;32mif\u001b[0m \u001b[0misinstance\u001b[0m\u001b[1;33m(\u001b[0m\u001b[0mapplied\u001b[0m\u001b[1;33m,\u001b[0m \u001b[0mlist\u001b[0m\u001b[1;33m)\u001b[0m\u001b[1;33m:\u001b[0m\u001b[1;33m\u001b[0m\u001b[0m\n",
        "\u001b[1;32mC:\\Users\\Jocelyn\\Anaconda\\lib\\site-packages\\pandas\\core\\internals.pyc\u001b[0m in \u001b[0;36mconvert\u001b[1;34m(self, convert_dates, convert_numeric, convert_timedeltas, copy, by_item)\u001b[0m\n\u001b[0;32m   1271\u001b[0m                     \u001b[0mvalues\u001b[0m\u001b[1;33m.\u001b[0m\u001b[0mravel\u001b[0m\u001b[1;33m(\u001b[0m\u001b[1;33m)\u001b[0m\u001b[1;33m,\u001b[0m \u001b[0mconvert_dates\u001b[0m\u001b[1;33m=\u001b[0m\u001b[0mconvert_dates\u001b[0m\u001b[1;33m,\u001b[0m\u001b[1;33m\u001b[0m\u001b[0m\n\u001b[0;32m   1272\u001b[0m                     \u001b[0mconvert_numeric\u001b[0m\u001b[1;33m=\u001b[0m\u001b[0mconvert_numeric\u001b[0m\u001b[1;33m,\u001b[0m\u001b[1;33m\u001b[0m\u001b[0m\n\u001b[1;32m-> 1273\u001b[1;33m                     \u001b[0mconvert_timedeltas\u001b[0m\u001b[1;33m=\u001b[0m\u001b[0mconvert_timedeltas\u001b[0m\u001b[1;33m,\u001b[0m\u001b[1;33m\u001b[0m\u001b[0m\n\u001b[0m\u001b[0;32m   1274\u001b[0m                 ).reshape(values.shape)\n\u001b[0;32m   1275\u001b[0m                 \u001b[0mvalues\u001b[0m \u001b[1;33m=\u001b[0m \u001b[0m_block_shape\u001b[0m\u001b[1;33m(\u001b[0m\u001b[0mvalues\u001b[0m\u001b[1;33m,\u001b[0m \u001b[0mndim\u001b[0m\u001b[1;33m=\u001b[0m\u001b[0mself\u001b[0m\u001b[1;33m.\u001b[0m\u001b[0mndim\u001b[0m\u001b[1;33m)\u001b[0m\u001b[1;33m\u001b[0m\u001b[0m\n",
        "\u001b[1;32mC:\\Users\\Jocelyn\\Anaconda\\lib\\site-packages\\pandas\\core\\common.pyc\u001b[0m in \u001b[0;36m_possibly_convert_objects\u001b[1;34m(values, convert_dates, convert_numeric, convert_timedeltas)\u001b[0m\n\u001b[0;32m   1712\u001b[0m         \u001b[1;32melse\u001b[0m\u001b[1;33m:\u001b[0m\u001b[1;33m\u001b[0m\u001b[0m\n\u001b[0;32m   1713\u001b[0m             values = lib.maybe_convert_objects(\n\u001b[1;32m-> 1714\u001b[1;33m                 values, convert_datetime=convert_dates)\n\u001b[0m\u001b[0;32m   1715\u001b[0m \u001b[1;33m\u001b[0m\u001b[0m\n\u001b[0;32m   1716\u001b[0m     \u001b[1;31m# convert timedeltas\u001b[0m\u001b[1;33m\u001b[0m\u001b[1;33m\u001b[0m\u001b[0m\n",
        "\u001b[1;32mC:\\Users\\Jocelyn\\Anaconda\\lib\\site-packages\\pandas\\lib.pyd\u001b[0m in \u001b[0;36mpandas.lib.maybe_convert_objects (pandas\\lib.c:46823)\u001b[1;34m()\u001b[0m\n",
        "\u001b[1;32mC:\\Users\\Jocelyn\\Anaconda\\lib\\site-packages\\pandas\\tslib.pyd\u001b[0m in \u001b[0;36mpandas.tslib.convert_to_tsobject (pandas\\tslib.c:17151)\u001b[1;34m()\u001b[0m\n",
        "\u001b[1;32mC:\\Users\\Jocelyn\\Anaconda\\lib\\site-packages\\pandas\\tslib.pyd\u001b[0m in \u001b[0;36mpandas.tslib._check_dts_bounds (pandas\\tslib.c:18680)\u001b[1;34m()\u001b[0m\n",
        "\u001b[1;31mOutOfBoundsDatetime\u001b[0m: Out of bounds nanosecond timestamp: 1675-02-16 00:00:00"
       ]
      }
     ],
     "prompt_number": 31
    },
    {
     "cell_type": "code",
     "collapsed": false,
     "input": [
      "# VEI\n",
      "print conf_erup['VEI'].unique()\n",
      "print 'Number of NaN VEI values:', conf_erup[conf_erup['VEI'].isnull()].shape[0]\n",
      "# only 68 out of 3624 eruptions --- will impute values"
     ],
     "language": "python",
     "metadata": {},
     "outputs": [
      {
       "output_type": "stream",
       "stream": "stdout",
       "text": [
        "[  3.   1.   2.  nan   0.   4.   5.   6.]\n",
        "Number of NaN VEI values: 68\n"
       ]
      }
     ],
     "prompt_number": 40
    },
    {
     "cell_type": "code",
     "collapsed": false,
     "input": [
      "#VEI is skewed slightly to lower values with most values at 2\n",
      "conf_erup['VEI'].hist(bins = 6)\n",
      "plt.show()"
     ],
     "language": "python",
     "metadata": {},
     "outputs": [
      {
       "metadata": {},
       "output_type": "display_data",
       "png": "[encoded data removed]",
       "text": [
        "<matplotlib.figure.Figure at 0x13d0ee48>"
       ]
      }
     ],
     "prompt_number": 43
    },
    {
     "cell_type": "code",
     "collapsed": false,
     "input": [
      "conf_erup['Impute VEI'] = cleanup.impute_vei(conf_erup,'VEI')"
     ],
     "language": "python",
     "metadata": {},
     "outputs": [],
     "prompt_number": 59
    },
    {
     "cell_type": "code",
     "collapsed": true,
     "input": [
      "conf_erup['Impute VEI'][0:10]"
     ],
     "language": "python",
     "metadata": {},
     "outputs": [
      {
       "metadata": {},
       "output_type": "pyout",
       "prompt_number": 60,
       "text": [
        "0     3.000000\n",
        "1     1.000000\n",
        "3     2.000000\n",
        "4     2.000000\n",
        "5     1.909168\n",
        "6     0.000000\n",
        "7     1.000000\n",
        "8     1.909168\n",
        "9     1.000000\n",
        "10    1.000000\n",
        "Name: Impute VEI, dtype: float64"
       ]
      }
     ],
     "prompt_number": 60
    },
    {
     "cell_type": "code",
     "collapsed": false,
     "input": [],
     "language": "python",
     "metadata": {},
     "outputs": [
      {
       "ename": "ValueError",
       "evalue": "Series lengths must match to compare",
       "output_type": "pyerr",
       "traceback": [
        "\u001b[1;31m---------------------------------------------------------------------------\u001b[0m\n\u001b[1;31mValueError\u001b[0m                                Traceback (most recent call last)",
        "\u001b[1;32m<ipython-input-64-c7b8e406fa38>\u001b[0m in \u001b[0;36m<module>\u001b[1;34m()\u001b[0m\n\u001b[1;32m----> 1\u001b[1;33m \u001b[0mvolcanoes\u001b[0m\u001b[1;33m[\u001b[0m\u001b[0mvolcanoes\u001b[0m\u001b[1;33m[\u001b[0m\u001b[1;34m'Volcano Number'\u001b[0m\u001b[1;33m]\u001b[0m\u001b[1;33m==\u001b[0m\u001b[0mconf_erup\u001b[0m\u001b[1;33m[\u001b[0m\u001b[1;34m'Volcano Number'\u001b[0m\u001b[1;33m]\u001b[0m\u001b[1;33m]\u001b[0m\u001b[1;33m\u001b[0m\u001b[0m\n\u001b[0m",
        "\u001b[1;32mC:\\Users\\Jocelyn\\Anaconda\\lib\\site-packages\\pandas\\core\\ops.pyc\u001b[0m in \u001b[0;36mwrapper\u001b[1;34m(self, other)\u001b[0m\n\u001b[0;32m    549\u001b[0m             \u001b[0mname\u001b[0m \u001b[1;33m=\u001b[0m \u001b[0m_maybe_match_name\u001b[0m\u001b[1;33m(\u001b[0m\u001b[0mself\u001b[0m\u001b[1;33m,\u001b[0m \u001b[0mother\u001b[0m\u001b[1;33m)\u001b[0m\u001b[1;33m\u001b[0m\u001b[0m\n\u001b[0;32m    550\u001b[0m             \u001b[1;32mif\u001b[0m \u001b[0mlen\u001b[0m\u001b[1;33m(\u001b[0m\u001b[0mself\u001b[0m\u001b[1;33m)\u001b[0m \u001b[1;33m!=\u001b[0m \u001b[0mlen\u001b[0m\u001b[1;33m(\u001b[0m\u001b[0mother\u001b[0m\u001b[1;33m)\u001b[0m\u001b[1;33m:\u001b[0m\u001b[1;33m\u001b[0m\u001b[0m\n\u001b[1;32m--> 551\u001b[1;33m                 \u001b[1;32mraise\u001b[0m \u001b[0mValueError\u001b[0m\u001b[1;33m(\u001b[0m\u001b[1;34m'Series lengths must match to compare'\u001b[0m\u001b[1;33m)\u001b[0m\u001b[1;33m\u001b[0m\u001b[0m\n\u001b[0m\u001b[0;32m    552\u001b[0m             return self._constructor(na_op(self.values, other.values),\n\u001b[0;32m    553\u001b[0m                                      index=self.index, name=name)\n",
        "\u001b[1;31mValueError\u001b[0m: Series lengths must match to compare"
       ]
      }
     ],
     "prompt_number": 64
    },
    {
     "cell_type": "code",
     "collapsed": false,
     "input": [
      "df = conf_erup\n",
      "\n",
      "df[(df['Start Month']==2)&(df['Start Day']==29)]"
     ],
     "language": "python",
     "metadata": {},
     "outputs": [
      {
       "html": [
        "<div style=\"max-height:1000px;max-width:1500px;overflow:auto;\">\n",
        "<table border=\"1\" class=\"dataframe\">\n",
        "  <thead>\n",
        "    <tr style=\"text-align: right;\">\n",
        "      <th></th>\n",
        "      <th>Volcano Number</th>\n",
        "      <th>Volcano Name</th>\n",
        "      <th>Eruption Number</th>\n",
        "      <th>Eruption Category</th>\n",
        "      <th>Area of Activity</th>\n",
        "      <th>VEI</th>\n",
        "      <th>VEI Modifier</th>\n",
        "      <th>Start Year Modifier</th>\n",
        "      <th>Start Year</th>\n",
        "      <th>Start Year Uncertainty</th>\n",
        "      <th>...</th>\n",
        "      <th>Start Day</th>\n",
        "      <th>Start Day Uncertainty</th>\n",
        "      <th>Evidence Method (dating)</th>\n",
        "      <th>End Year Modifier</th>\n",
        "      <th>End Year</th>\n",
        "      <th>End Year Uncertainty</th>\n",
        "      <th>End Month</th>\n",
        "      <th>End Day Modifier</th>\n",
        "      <th>End Day</th>\n",
        "      <th>End Day Uncertainty</th>\n",
        "    </tr>\n",
        "  </thead>\n",
        "  <tbody>\n",
        "    <tr>\n",
        "      <th>2519</th>\n",
        "      <td> 255020</td>\n",
        "      <td>        Bagana</td>\n",
        "      <td> 15128</td>\n",
        "      <td> Confirmed Eruption</td>\n",
        "      <td>    NaN</td>\n",
        "      <td> 4</td>\n",
        "      <td> NaN</td>\n",
        "      <td> NaN</td>\n",
        "      <td> 1952</td>\n",
        "      <td>NaN</td>\n",
        "      <td>...</td>\n",
        "      <td> 29</td>\n",
        "      <td>NaN</td>\n",
        "      <td> Historical Observations</td>\n",
        "      <td> NaN</td>\n",
        "      <td> 1952</td>\n",
        "      <td>NaN</td>\n",
        "      <td> 10</td>\n",
        "      <td> NaN</td>\n",
        "      <td>  0</td>\n",
        "      <td>NaN</td>\n",
        "    </tr>\n",
        "    <tr>\n",
        "      <th>6724</th>\n",
        "      <td> 282090</td>\n",
        "      <td> Kirishimayama</td>\n",
        "      <td> 17130</td>\n",
        "      <td> Confirmed Eruption</td>\n",
        "      <td> Ohachi</td>\n",
        "      <td> 2</td>\n",
        "      <td>   ?</td>\n",
        "      <td> NaN</td>\n",
        "      <td> 1678</td>\n",
        "      <td>NaN</td>\n",
        "      <td>...</td>\n",
        "      <td> 29</td>\n",
        "      <td>NaN</td>\n",
        "      <td> Historical Observations</td>\n",
        "      <td> NaN</td>\n",
        "      <td>  NaN</td>\n",
        "      <td>NaN</td>\n",
        "      <td>NaN</td>\n",
        "      <td> NaN</td>\n",
        "      <td>NaN</td>\n",
        "      <td>NaN</td>\n",
        "    </tr>\n",
        "  </tbody>\n",
        "</table>\n",
        "<p>2 rows \u00d7 22 columns</p>\n",
        "</div>"
       ],
       "metadata": {},
       "output_type": "pyout",
       "prompt_number": 24,
       "text": [
        "      Volcano Number   Volcano Name  Eruption Number   Eruption Category  \\\n",
        "2519          255020         Bagana            15128  Confirmed Eruption   \n",
        "6724          282090  Kirishimayama            17130  Confirmed Eruption   \n",
        "\n",
        "     Area of Activity  VEI VEI Modifier Start Year Modifier  Start Year  \\\n",
        "2519              NaN    4          NaN                 NaN        1952   \n",
        "6724           Ohachi    2            ?                 NaN        1678   \n",
        "\n",
        "      Start Year Uncertainty           ...            Start Day  \\\n",
        "2519                     NaN           ...                   29   \n",
        "6724                     NaN           ...                   29   \n",
        "\n",
        "     Start Day Uncertainty  Evidence Method (dating)  End Year Modifier  \\\n",
        "2519                   NaN   Historical Observations                NaN   \n",
        "6724                   NaN   Historical Observations                NaN   \n",
        "\n",
        "     End Year End Year Uncertainty  End Month  End Day Modifier  End Day  \\\n",
        "2519     1952                  NaN         10               NaN        0   \n",
        "6724      NaN                  NaN        NaN               NaN      NaN   \n",
        "\n",
        "     End Day Uncertainty  \n",
        "2519                 NaN  \n",
        "6724                 NaN  \n",
        "\n",
        "[2 rows x 22 columns]"
       ]
      }
     ],
     "prompt_number": 24
    },
    {
     "cell_type": "code",
     "collapsed": false,
     "input": [
      "eruptions[(eruptions['Start Month']==2)&(eruptions['Start Day']==29)]\n",
      "eruptions.loc[2519]['Start Year']"
     ],
     "language": "python",
     "metadata": {},
     "outputs": [
      {
       "metadata": {},
       "output_type": "pyout",
       "prompt_number": 26,
       "text": [
        "1952"
       ]
      }
     ],
     "prompt_number": 26
    },
    {
     "cell_type": "code",
     "collapsed": false,
     "input": [
      "conf_erup['Start Day'][6724]\n"
     ],
     "language": "python",
     "metadata": {},
     "outputs": [
      {
       "metadata": {},
       "output_type": "pyout",
       "prompt_number": 28,
       "text": [
        "29.0"
       ]
      }
     ],
     "prompt_number": 28
    },
    {
     "cell_type": "code",
     "collapsed": false,
     "input": [
      "eruptions[(eruptions['End Month']==2) & (eruptions['End Day']==29)]"
     ],
     "language": "python",
     "metadata": {},
     "outputs": [
      {
       "html": [
        "<div style=\"max-height:1000px;max-width:1500px;overflow:auto;\">\n",
        "<table border=\"1\" class=\"dataframe\">\n",
        "  <thead>\n",
        "    <tr style=\"text-align: right;\">\n",
        "      <th></th>\n",
        "      <th>Volcano Number</th>\n",
        "      <th>Volcano Name</th>\n",
        "      <th>Eruption Number</th>\n",
        "      <th>Eruption Category</th>\n",
        "      <th>Area of Activity</th>\n",
        "      <th>VEI</th>\n",
        "      <th>VEI Modifier</th>\n",
        "      <th>Start Year Modifier</th>\n",
        "      <th>Start Year</th>\n",
        "      <th>Start Year Uncertainty</th>\n",
        "      <th>...</th>\n",
        "      <th>Start Day</th>\n",
        "      <th>Start Day Uncertainty</th>\n",
        "      <th>Evidence Method (dating)</th>\n",
        "      <th>End Year Modifier</th>\n",
        "      <th>End Year</th>\n",
        "      <th>End Year Uncertainty</th>\n",
        "      <th>End Month</th>\n",
        "      <th>End Day Modifier</th>\n",
        "      <th>End Day</th>\n",
        "      <th>End Day Uncertainty</th>\n",
        "    </tr>\n",
        "  </thead>\n",
        "  <tbody>\n",
        "    <tr>\n",
        "      <th>4372</th>\n",
        "      <td> 273030</td>\n",
        "      <td> Mayon</td>\n",
        "      <td> 16790</td>\n",
        "      <td> Confirmed Eruption</td>\n",
        "      <td> NaN</td>\n",
        "      <td> 2</td>\n",
        "      <td> NaN</td>\n",
        "      <td> NaN</td>\n",
        "      <td> 1891</td>\n",
        "      <td>NaN</td>\n",
        "      <td>...</td>\n",
        "      <td> 3</td>\n",
        "      <td>NaN</td>\n",
        "      <td> Historical Observations</td>\n",
        "      <td> NaN</td>\n",
        "      <td> 1892</td>\n",
        "      <td>NaN</td>\n",
        "      <td> 2</td>\n",
        "      <td> NaN</td>\n",
        "      <td> 29</td>\n",
        "      <td>NaN</td>\n",
        "    </tr>\n",
        "  </tbody>\n",
        "</table>\n",
        "<p>1 rows \u00d7 22 columns</p>\n",
        "</div>"
       ],
       "metadata": {},
       "output_type": "pyout",
       "prompt_number": 4,
       "text": [
        "      Volcano Number Volcano Name  Eruption Number   Eruption Category  \\\n",
        "4372          273030        Mayon            16790  Confirmed Eruption   \n",
        "\n",
        "     Area of Activity  VEI VEI Modifier Start Year Modifier  Start Year  \\\n",
        "4372              NaN    2          NaN                 NaN        1891   \n",
        "\n",
        "      Start Year Uncertainty           ...            Start Day  \\\n",
        "4372                     NaN           ...                    3   \n",
        "\n",
        "     Start Day Uncertainty  Evidence Method (dating)  End Year Modifier  \\\n",
        "4372                   NaN   Historical Observations                NaN   \n",
        "\n",
        "     End Year End Year Uncertainty  End Month  End Day Modifier  End Day  \\\n",
        "4372     1892                  NaN          2               NaN       29   \n",
        "\n",
        "     End Day Uncertainty  \n",
        "4372                 NaN  \n",
        "\n",
        "[1 rows x 22 columns]"
       ]
      }
     ],
     "prompt_number": 4
    },
    {
     "cell_type": "code",
     "collapsed": false,
     "input": [
      "eruptions.loc[4372]"
     ],
     "language": "python",
     "metadata": {},
     "outputs": [
      {
       "metadata": {},
       "output_type": "pyout",
       "prompt_number": 6,
       "text": [
        "Volcano Number                               273030\n",
        "Volcano Name                                  Mayon\n",
        "Eruption Number                               16790\n",
        "Eruption Category                Confirmed Eruption\n",
        "Area of Activity                                NaN\n",
        "VEI                                               2\n",
        "VEI Modifier                                    NaN\n",
        "Start Year Modifier                             NaN\n",
        "Start Year                                     1891\n",
        "Start Year Uncertainty                          NaN\n",
        "Start Month                                      10\n",
        "Start Day Modifier                              NaN\n",
        "Start Day                                         3\n",
        "Start Day Uncertainty                           NaN\n",
        "Evidence Method (dating)    Historical Observations\n",
        "End Year Modifier                               NaN\n",
        "End Year                                       1892\n",
        "End Year Uncertainty                            NaN\n",
        "End Month                                         2\n",
        "End Day Modifier                                NaN\n",
        "End Day                                          29\n",
        "End Day Uncertainty                             NaN\n",
        "Name: 4372, dtype: object"
       ]
      }
     ],
     "prompt_number": 6
    },
    {
     "cell_type": "code",
     "collapsed": false,
     "input": [],
     "language": "python",
     "metadata": {},
     "outputs": []
    }
   ],
   "metadata": {}
  }
 ]
}