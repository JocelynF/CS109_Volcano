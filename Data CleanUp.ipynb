{
 "metadata": {
  "name": "",
  "signature": "sha256:b02a7865f54f49f5584ceef9d51136908691666f7fc4d8dbc3c7cc56a8e88bde"
 },
 "nbformat": 3,
 "nbformat_minor": 0,
 "worksheets": [
  {
   "cells": [
    {
     "cell_type": "code",
     "collapsed": false,
     "input": [
      "import matplotlib.pyplot as plt\n",
      "import pandas as pd\n",
      "import numpy as np\n",
      "import cleanup\n",
      "import stats\n",
      "import tidal_forces\n",
      "import pickle\n",
      "\n",
      "%matplotlib inline"
     ],
     "language": "python",
     "metadata": {},
     "outputs": [],
     "prompt_number": 1
    },
    {
     "cell_type": "code",
     "collapsed": false,
     "input": [
      "eruptions = pd.io.excel.read_excel('Eruptions.xlsx', header = 1)\n",
      "volcanoes = pd.io.excel.read_excel('Volcanoes.xlsx', header = 1)\n",
      "#eruptions.head()"
     ],
     "language": "python",
     "metadata": {},
     "outputs": [],
     "prompt_number": 2
    },
    {
     "cell_type": "code",
     "collapsed": false,
     "input": [
      "#volcanoes.head()"
     ],
     "language": "python",
     "metadata": {},
     "outputs": [],
     "prompt_number": 3
    },
    {
     "cell_type": "code",
     "collapsed": false,
     "input": [
      "eruptions.columns"
     ],
     "language": "python",
     "metadata": {},
     "outputs": [
      {
       "metadata": {},
       "output_type": "pyout",
       "prompt_number": 4,
       "text": [
        "Index([u'Volcano Number', u'Volcano Name', u'Eruption Number', u'Eruption Category', u'Area of Activity', u'VEI', u'VEI Modifier', u'Start Year Modifier', u'Start Year', u'Start Year Uncertainty', u'Start Month', u'Start Day Modifier', u'Start Day', u'Start Day Uncertainty', u'Evidence Method (dating)', u'End Year Modifier', u'End Year', u'End Year Uncertainty', u'End Month', u'End Day Modifier', u'End Day', u'End Day Uncertainty'], dtype='object')"
       ]
      }
     ],
     "prompt_number": 4
    },
    {
     "cell_type": "code",
     "collapsed": false,
     "input": [
      "volcanoes.columns"
     ],
     "language": "python",
     "metadata": {},
     "outputs": [
      {
       "metadata": {},
       "output_type": "pyout",
       "prompt_number": 5,
       "text": [
        "Index([u'Volcano Number', u'Volcano Name', u'Country', u'Primary Volcano Type', u'Activity Evidence', u'Last Known Eruption', u'Region', u'Subregion', u'Latitude', u'Longitude', u'Elevation (m)', u'Dominant Rock Type', u'Tectonic Setting'], dtype='object')"
       ]
      }
     ],
     "prompt_number": 5
    },
    {
     "cell_type": "markdown",
     "metadata": {},
     "source": [
      "### Only explore confirmed eruptions"
     ]
    },
    {
     "cell_type": "code",
     "collapsed": false,
     "input": [
      "conf_erup = eruptions[eruptions['Eruption Category'] == 'Confirmed Eruption']\n",
      "print 'Amount of Confirmed Eruptions:', conf_erup.shape[0]"
     ],
     "language": "python",
     "metadata": {},
     "outputs": [
      {
       "output_type": "stream",
       "stream": "stdout",
       "text": [
        "Amount of Confirmed Eruptions: 9536\n"
       ]
      }
     ],
     "prompt_number": 6
    },
    {
     "cell_type": "code",
     "collapsed": false,
     "input": [
      "#conf_erup.head()"
     ],
     "language": "python",
     "metadata": {},
     "outputs": [],
     "prompt_number": 7
    },
    {
     "cell_type": "markdown",
     "metadata": {},
     "source": [
      "### Only explore eruptions with no uncertainty in the start day"
     ]
    },
    {
     "cell_type": "code",
     "collapsed": false,
     "input": [
      "print conf_erup['Start Day'].unique()\n",
      "print conf_erup['Start Month'].unique()\n",
      "## Notice that there are some zeroes and nans"
     ],
     "language": "python",
     "metadata": {},
     "outputs": [
      {
       "output_type": "stream",
       "stream": "stdout",
       "text": [
        "[ 27.  17.   6.  30.  29.  13.   3.   4.  22.  21.  31.  24.  26.   9.   8.\n",
        "   7.  28.  20.  18.  23.  12.  15.  25.  11.   2.   5.  16.  19.   1.  10.\n",
        "  14.   0.  nan]\n",
        "[  9.   8.   7.   6.   5.   4.   3.   2.   1.  12.  11.  10.   0.  nan]\n"
       ]
      }
     ],
     "prompt_number": 8
    },
    {
     "cell_type": "code",
     "collapsed": false,
     "input": [
      "conf_erup = conf_erup[(conf_erup['Start Month'] != 0) & (conf_erup['Start Day'] != 0)]\n",
      "conf_erup = cleanup.eliminate_nan(conf_erup, 'Start Day')\n",
      "conf_erup = cleanup.eliminate_nan(conf_erup, 'Start Month')"
     ],
     "language": "python",
     "metadata": {},
     "outputs": [],
     "prompt_number": 9
    },
    {
     "cell_type": "code",
     "collapsed": false,
     "input": [
      "print conf_erup['Start Day'].unique()\n",
      "print conf_erup['Start Month'].unique()"
     ],
     "language": "python",
     "metadata": {},
     "outputs": [
      {
       "output_type": "stream",
       "stream": "stdout",
       "text": [
        "[ 27.  17.   6.  30.  29.  13.   3.   4.  22.  21.  31.  24.  26.   9.   8.\n",
        "   7.  28.  20.  18.  23.  12.  15.  25.  11.   2.   5.  16.  19.   1.  10.\n",
        "  14.]\n",
        "[  9.   8.   7.   6.   5.   4.   3.   2.   1.  12.  11.  10.]\n"
       ]
      }
     ],
     "prompt_number": 10
    },
    {
     "cell_type": "code",
     "collapsed": false,
     "input": [
      "## Check uncertainty in dates\n",
      "\n",
      "print conf_erup['Start Day Uncertainty'].unique()\n",
      "print conf_erup['Start Year Uncertainty'].unique()\n",
      "print 'Number of Confirmed Eruptions with Start Days and Months:', conf_erup.shape[0]"
     ],
     "language": "python",
     "metadata": {},
     "outputs": [
      {
       "output_type": "stream",
       "stream": "stdout",
       "text": [
        "[  nan    2.    4.    3.    7.    5.    1.   12.   20.  150.  180.   30.\n",
        "   90.   15.    9.  365.   45.    8.  270.   75.   60.  120.   10.    6.\n",
        "  730.]\n",
        "[ nan  10.  13.]\n",
        "Number of Confirmed Eruptions with Start Days and Months: 3950\n"
       ]
      }
     ],
     "prompt_number": 11
    },
    {
     "cell_type": "code",
     "collapsed": false,
     "input": [
      "# Only accept nan's in uncertainty\n",
      "conf_erup = conf_erup[conf_erup['Start Day Uncertainty'].isnull()]\n",
      "conf_erup = conf_erup[conf_erup['Start Year Uncertainty'].isnull()]\n",
      "\n",
      "print 'Number of Confirmed Eruptions with No Uncertain Start Dates:', conf_erup.shape[0]"
     ],
     "language": "python",
     "metadata": {},
     "outputs": [
      {
       "output_type": "stream",
       "stream": "stdout",
       "text": [
        "Number of Confirmed Eruptions with No Uncertain Start Dates: 3624\n"
       ]
      }
     ],
     "prompt_number": 12
    },
    {
     "cell_type": "code",
     "collapsed": false,
     "input": [
      "print 'Number of Volcanoes In Confirmed Eruptions Dataset:', conf_erup['Volcano Number'].unique().shape[0]"
     ],
     "language": "python",
     "metadata": {},
     "outputs": [
      {
       "output_type": "stream",
       "stream": "stdout",
       "text": [
        "Number of Volcanoes In Confirmed Eruptions Dataset: 457\n"
       ]
      }
     ],
     "prompt_number": 13
    },
    {
     "cell_type": "heading",
     "level": 1,
     "metadata": {},
     "source": [
      "Volcano and Eruption Features"
     ]
    },
    {
     "cell_type": "code",
     "collapsed": false,
     "input": [
      "year_min = conf_erup['Start Year'].min()\n",
      "year_max = conf_erup['Start Year'].max()\n",
      "print 'Start Date Range:', year_max - year_min, 'years'"
     ],
     "language": "python",
     "metadata": {},
     "outputs": [
      {
       "output_type": "stream",
       "stream": "stdout",
       "text": [
        "Start Date Range: 1968 years\n"
       ]
      }
     ],
     "prompt_number": 14
    },
    {
     "cell_type": "code",
     "collapsed": false,
     "input": [
      "conf_erup['Start Year'].hist(figsize = (15,6), bins = 100, log=True)\n",
      "plt.xlim([0,2100])\n",
      "plt.show()\n",
      "\n",
      "#Values are highly skewed to more recent dates...as expected"
     ],
     "language": "python",
     "metadata": {},
     "outputs": [
      {
       "metadata": {},
       "output_type": "display_data",
       "png": "[encoded data removed]",
       "text": [
        "<matplotlib.figure.Figure at 0x13edd7f0>"
       ]
      }
     ],
     "prompt_number": 15
    },
    {
     "cell_type": "code",
     "collapsed": false,
     "input": [
      "#Convert dates --- 2 days are on 2/29, one of those days is not actually a leap year---raises error---changed date from 2/29 to 2/28\n",
      "from datetime import datetime\n",
      "conf_erup['Start Day'][6724] = 28\n",
      "conf_erup['Start Date'] = cleanup.convert_dates(conf_erup, 'Start Year', 'Start Month', 'Start Day')"
     ],
     "language": "python",
     "metadata": {},
     "outputs": [],
     "prompt_number": 16
    },
    {
     "cell_type": "code",
     "collapsed": false,
     "input": [
      "conf_erup['Julian Start Dates'] = cleanup.julian_date(conf_erup, 'Start Date')\n",
      "conf_erup['End Date'] = cleanup.convert_dates(conf_erup, 'End Year', 'End Month', 'End Day')"
     ],
     "language": "python",
     "metadata": {},
     "outputs": [],
     "prompt_number": 17
    },
    {
     "cell_type": "code",
     "collapsed": false,
     "input": [
      "# VEI\n",
      "print conf_erup['VEI'].unique()\n",
      "print 'Number of NaN VEI values:', conf_erup[conf_erup['VEI'].isnull()].shape[0]\n",
      "# only 68 out of 3624 eruptions --- will impute values"
     ],
     "language": "python",
     "metadata": {},
     "outputs": [
      {
       "output_type": "stream",
       "stream": "stdout",
       "text": [
        "[  3.   1.   2.  nan   0.   4.   5.   6.]\n",
        "Number of NaN VEI values: 68\n"
       ]
      }
     ],
     "prompt_number": 18
    },
    {
     "cell_type": "code",
     "collapsed": false,
     "input": [
      "#VEI is skewed slightly to lower values with most values at 2\n",
      "conf_erup['VEI'].hist(bins = 6)\n",
      "plt.show()"
     ],
     "language": "python",
     "metadata": {},
     "outputs": [
      {
       "metadata": {},
       "output_type": "display_data",
       "png": "[encoded data removed]",
       "text": [
        "<matplotlib.figure.Figure at 0x156938d0>"
       ]
      }
     ],
     "prompt_number": 19
    },
    {
     "cell_type": "code",
     "collapsed": false,
     "input": [
      "conf_erup['Impute VEI'] = cleanup.impute_vei(conf_erup,'VEI')"
     ],
     "language": "python",
     "metadata": {},
     "outputs": [],
     "prompt_number": 20
    },
    {
     "cell_type": "code",
     "collapsed": true,
     "input": [
      "conf_erup['Impute VEI'][0:10]"
     ],
     "language": "python",
     "metadata": {},
     "outputs": [
      {
       "metadata": {},
       "output_type": "pyout",
       "prompt_number": 21,
       "text": [
        "0     3\n",
        "1     1\n",
        "3     2\n",
        "4     2\n",
        "5     2\n",
        "6     0\n",
        "7     1\n",
        "8     2\n",
        "9     1\n",
        "10    1\n",
        "Name: Impute VEI, dtype: float64"
       ]
      }
     ],
     "prompt_number": 21
    },
    {
     "cell_type": "code",
     "collapsed": false,
     "input": [
      "# merge eruptions and volcanos\n",
      "conf_erup = pd.merge(conf_erup, volcanoes, on = ['Volcano Number'], how = 'left')"
     ],
     "language": "python",
     "metadata": {},
     "outputs": [],
     "prompt_number": 22
    },
    {
     "cell_type": "code",
     "collapsed": false,
     "input": [
      "# # #create tide dictionary with numpy array of tides as values and eruptions as keys\n",
      "# tides_dict1 = tidal_forces.iter_tides(conf_erup[0:200], 'Julian Start Dates', 'Latitude', 'Longitude', 'Eruption Number')\n",
      "# with open('tides.txt', 'w') as handle:\n",
      "#     pickle.dump(tides_dict1, handle)\n",
      "# tides_dict2 = tidal_forces.iter_tides(conf_erup[200:400], 'Julian Start Dates', 'Latitude', 'Longitude', 'Eruption Number')\n",
      "# with open('tides2.txt', 'w') as handle:\n",
      "#     pickle.dump(tides_dict2, handle)\n",
      "# tides_dict3 = tidal_forces.iter_tides(conf_erup[400:600], 'Julian Start Dates', 'Latitude', 'Longitude', 'Eruption Number')\n",
      "# with open('tides3.txt', 'w') as handle:\n",
      "#     pickle.dump(tides_dict3, handle)\n",
      "# tides_dict4 = tidal_forces.iter_tides(conf_erup[600:800], 'Julian Start Dates', 'Latitude', 'Longitude', 'Eruption Number')\n",
      "# with open('tides4.txt', 'w') as handle:\n",
      "#     pickle.dump(tides_dict4, handle)\n",
      "# tides_dict5 = tidal_forces.iter_tides(conf_erup[800:1000], 'Julian Start Dates', 'Latitude', 'Longitude', 'Eruption Number')\n",
      "# with open('tides5.txt', 'w') as handle:\n",
      "#     pickle.dump(tides_dict5, handle)\n",
      "# tides_dict6 = tidal_forces.iter_tides(conf_erup[1000:1200], 'Julian Start Dates', 'Latitude', 'Longitude', 'Eruption Number')\n",
      "# with open('tides6.txt', 'w') as handle:\n",
      "#     pickle.dump(tides_dict6, handle)\n",
      "# tides_dict7 = tidal_forces.iter_tides(conf_erup[1200:1400], 'Julian Start Dates', 'Latitude', 'Longitude', 'Eruption Number')\n",
      "# with open('tides7.txt', 'w') as handle:\n",
      "#     pickle.dump(tides_dict7, handle)\n",
      "#     tides_dict8 = tidal_forces.iter_tides(conf_erup[1400:1600], 'Julian Start Dates', 'Latitude', 'Longitude', 'Eruption Number')\n",
      "# with open('tides8.txt', 'w') as handle:\n",
      "#     pickle.dump(tides_dict8, handle)\n",
      "# tides_dict9 = tidal_forces.iter_tides(conf_erup[1600:1800], 'Julian Start Dates', 'Latitude', 'Longitude', 'Eruption Number')\n",
      "# with open('tides9.txt', 'w') as handle:\n",
      "#     pickle.dump(tides_dict9, handle)\n",
      "# tides_dict10 = tidal_forces.iter_tides(conf_erup[1800:2000], 'Julian Start Dates', 'Latitude', 'Longitude', 'Eruption Number')\n",
      "# with open('tides10.txt', 'w') as handle:\n",
      "#     pickle.dump(tides_dict10, handle)\n",
      "# tides_dict11 = tidal_forces.iter_tides(conf_erup[2000:2200], 'Julian Start Dates', 'Latitude', 'Longitude', 'Eruption Number')\n",
      "# with open('tides11.txt', 'w') as handle:\n",
      "#     pickle.dump(tides_dict11, handle)\n",
      "# tides_dict12 = tidal_forces.iter_tides(conf_erup[2200:2400], 'Julian Start Dates', 'Latitude', 'Longitude', 'Eruption Number')\n",
      "# with open('tides12.txt', 'w') as handle:\n",
      "#     pickle.dump(tides_dict12, handle)\n",
      "# tides_dict13 = tidal_forces.iter_tides(conf_erup[2400:2600], 'Julian Start Dates', 'Latitude', 'Longitude', 'Eruption Number')\n",
      "# with open('tides13.txt', 'w') as handle:\n",
      "#     pickle.dump(tides_dict13, handle)\n",
      "# tides_dict14 = tidal_forces.iter_tides(conf_erup[2600:2800], 'Julian Start Dates', 'Latitude', 'Longitude', 'Eruption Number')\n",
      "# with open('tides14.txt', 'w') as handle:\n",
      "#     pickle.dump(tides_dict14, handle)\n",
      "# tides_dict15 = tidal_forces.iter_tides(conf_erup[2800:3000], 'Julian Start Dates', 'Latitude', 'Longitude', 'Eruption Number')\n",
      "# with open('tides15.txt', 'w') as handle:\n",
      "#     pickle.dump(tides_dict15, handle)\n",
      "# tides_dict16 = tidal_forces.iter_tides(conf_erup[3000:3200], 'Julian Start Dates', 'Latitude', 'Longitude', 'Eruption Number')\n",
      "# with open('tides16.txt', 'w') as handle:\n",
      "#     pickle.dump(tides_dict16, handle)\n",
      "# tides_dict17 = tidal_forces.iter_tides(conf_erup[3200:3400], 'Julian Start Dates', 'Latitude', 'Longitude', 'Eruption Number')\n",
      "# with open('tides17.txt', 'w') as handle:\n",
      "#     pickle.dump(tides_dict17, handle)\n",
      "# tides_dict18 = tidal_forces.iter_tides(conf_erup[3400:], 'Julian Start Dates', 'Latitude', 'Longitude', 'Eruption Number')\n",
      "# with open('tides18.txt', 'w') as handle:\n",
      "#     pickle.dump(tides_dict18, handle)\n"
     ],
     "language": "python",
     "metadata": {},
     "outputs": [],
     "prompt_number": 23
    },
    {
     "cell_type": "code",
     "collapsed": false,
     "input": [
      "tides = pickle.load(open('tides.txt', 'r'))\n",
      "tides2 = pickle.load(open('tides2.txt', 'r'))\n",
      "tides3 = pickle.load(open('tides3.txt', 'r'))\n",
      "tides4 = pickle.load(open('tides4.txt', 'r'))\n",
      "tides5 = pickle.load(open('tides5.txt', 'r'))\n",
      "tides6 = pickle.load(open('tides6.txt', 'r'))\n",
      "tides7 = pickle.load(open('tides7.txt', 'r'))\n",
      "tides8 = pickle.load(open('tides8.txt', 'r'))\n",
      "tides9 = pickle.load(open('tides9.txt', 'r'))\n",
      "tides10 = pickle.load(open('tides10.txt', 'r'))\n",
      "tides11 = pickle.load(open('tides11.txt', 'r'))\n",
      "tides12 = pickle.load(open('tides12.txt', 'r'))\n",
      "tides13 = pickle.load(open('tides13.txt', 'r'))\n",
      "tides14 = pickle.load(open('tides14.txt', 'r'))\n",
      "tides15 = pickle.load(open('tides15.txt', 'r'))\n",
      "tides16 = pickle.load(open('tides16.txt', 'r'))\n",
      "tides17 = pickle.load(open('tides17.txt', 'r'))\n",
      "tides18 = pickle.load(open('tides18.txt', 'r'))"
     ],
     "language": "python",
     "metadata": {},
     "outputs": [],
     "prompt_number": 24
    },
    {
     "cell_type": "code",
     "collapsed": false,
     "input": [
      "merged_tides = {k:v for d in (tides,tides2,tides3,tides4,tides5,tides6,tides7,tides8,tides9,tides10,tides11,tides12,tides13,tides14,tides15,tides16,tides17,tides18) for k, v in d.iteritems()}"
     ],
     "language": "python",
     "metadata": {},
     "outputs": [],
     "prompt_number": 25
    },
    {
     "cell_type": "code",
     "collapsed": false,
     "input": [
      "#Dictionaries of tidal phases\n",
      "mf_dict = tidal_forces.phasesDict(merged_tides, 'mf')\n",
      "mm_dict = tidal_forces.phasesDict(merged_tides, 'mm')\n",
      "ssa_dict = tidal_forces.phasesDict(merged_tides, 'ssa')\n",
      "diurnal_dict = tidal_forces.phasesDict(merged_tides, 'diurnal')\n",
      "semi_dict = tidal_forces.phasesDict(merged_tides, 'semi')\n"
     ],
     "language": "python",
     "metadata": {},
     "outputs": [],
     "prompt_number": 26
    },
    {
     "cell_type": "code",
     "collapsed": false,
     "input": [
      "mf = pd.Series(mf_dict, name = 'Mf Phases')\n",
      "mm = pd.Series(mm_dict, name = 'Mm Phases')\n",
      "ssa = pd.Series(ssa_dict, name = 'Ssa Phases')\n",
      "diurnal = pd.Series(diurnal_dict, name = 'Diurnal Phases')\n",
      "semi = pd.Series(semi_dict, name = 'SemiDiurnal Phases')\n",
      "phases_df = pd.concat([mf,mm,ssa,diurnal,semi], axis=1).reset_index()\n",
      "phases_df.rename(columns={'index':'Eruption Number'}, inplace = True)\n",
      "print phases_df.shape\n",
      "print conf_erup.shape"
     ],
     "language": "python",
     "metadata": {},
     "outputs": [
      {
       "output_type": "stream",
       "stream": "stdout",
       "text": [
        "(3624, 6)\n",
        "(3624, 38)\n"
       ]
      }
     ],
     "prompt_number": 27
    },
    {
     "cell_type": "code",
     "collapsed": false,
     "input": [
      "conf_erup = pd.merge(conf_erup, phases_df, on = ['Eruption Number'], how = 'left')"
     ],
     "language": "python",
     "metadata": {},
     "outputs": [],
     "prompt_number": 28
    },
    {
     "cell_type": "code",
     "collapsed": false,
     "input": [
      "# conf_erup.head()\n",
      "# with open('conf_erup.txt', 'w') as handle:\n",
      "#     pickle.dump(conf_erup, handle)"
     ],
     "language": "python",
     "metadata": {},
     "outputs": [],
     "prompt_number": 29
    },
    {
     "cell_type": "code",
     "collapsed": false,
     "input": [
      "plt.figure(figsize=(20,6))\n",
      "plt.hist(conf_erup['Mf Phases'], bins = 36)\n",
      "plt.xticks(np.arange(-180, 180+1, 10))\n",
      "plt.show()\n",
      "# tide = tidal_forces.calculate_tide(2423156-150,10.83,-85.324)\n",
      "# plt.plot(tide[:, 0]-2423156, tide[:,1])\n",
      "# plt.show()\n",
      "\n",
      "# tide = tidal_forces.calculate_tide(2423156,10.83,-85.324)\n",
      "# plt.plot(tide[:, 0]-2423156, tide[:,1])\n",
      "# plt.show()"
     ],
     "language": "python",
     "metadata": {},
     "outputs": [
      {
       "metadata": {},
       "output_type": "display_data",
       "png": "[encoded data removed]",
       "text": [
        "<matplotlib.figure.Figure at 0x2f8ce5978>"
       ]
      }
     ],
     "prompt_number": 64
    },
    {
     "cell_type": "code",
     "collapsed": false,
     "input": [
      "tidal_forces.periodPhase(merged_tides[17457],'mf')"
     ],
     "language": "python",
     "metadata": {},
     "outputs": [
      {
       "metadata": {},
       "output_type": "pyout",
       "prompt_number": 80,
       "text": [
        "71.947475844996916"
       ]
      }
     ],
     "prompt_number": 80
    },
    {
     "cell_type": "code",
     "collapsed": false,
     "input": [
      "conf_erup.iloc[2]"
     ],
     "language": "python",
     "metadata": {},
     "outputs": [
      {
       "metadata": {},
       "output_type": "pyout",
       "prompt_number": 75,
       "text": [
        "Volcano Number                                                    283040\n",
        "Volcano Name_x                                                 Ontakesan\n",
        "Eruption Number                                                    17457\n",
        "Eruption Category                                     Confirmed Eruption\n",
        "Area of Activity                                   200 m SW of Kengamine\n",
        "VEI                                                                    2\n",
        "VEI Modifier                                                         NaN\n",
        "Start Year Modifier                                                  NaN\n",
        "Start Year                                                          1979\n",
        "Start Year Uncertainty                                               NaN\n",
        "Start Month                                                           10\n",
        "Start Day Modifier                                                   NaN\n",
        "Start Day                                                             28\n",
        "Start Day Uncertainty                                                NaN\n",
        "Evidence Method (dating)                         Historical Observations\n",
        "End Year Modifier                                                    NaN\n",
        "End Year                                                            1980\n",
        "End Year Uncertainty                                                 NaN\n",
        "End Month                                                              4\n",
        "End Day Modifier                                                     NaN\n",
        "End Day                                                               25\n",
        "End Day Uncertainty                                                  NaN\n",
        "Start Date                                           1979-10-28 00:00:00\n",
        "Julian Start Dates                                               2444174\n",
        "End Date                                             1980-04-25 00:00:00\n",
        "Impute VEI                                                             2\n",
        "Volcano Name_y                                                 Ontakesan\n",
        "Country                                                            Japan\n",
        "Primary Volcano Type                                             Complex\n",
        "Activity Evidence                                      Eruption Observed\n",
        "Last Known Eruption                                              2014 CE\n",
        "Region                                           Japan, Taiwan, Marianas\n",
        "Subregion                                                         Honshu\n",
        "Latitude                                                          35.893\n",
        "Longitude                                                         137.48\n",
        "Elevation (m)                                                       3067\n",
        "Dominant Rock Type                          Andesite / Basaltic Andesite\n",
        "Tectonic Setting            Subduction zone / Continental crust (>25 km)\n",
        "Mf Phases                                                       71.94748\n",
        "Mm Phases                                                      -157.4021\n",
        "Ssa Phases                                                     -113.6614\n",
        "Diurnal Phases                                                    127.92\n",
        "SemiDiurnal Phases                                             -91.32001\n",
        "Name: 2, dtype: object"
       ]
      }
     ],
     "prompt_number": 75
    },
    {
     "cell_type": "markdown",
     "metadata": {},
     "source": [
      "import step -- done\n",
      "\n",
      "    import all modules \n",
      "\n",
      "    import all created modules\n",
      "\n",
      "    import two excel spreadsheets\n",
      "\n",
      "Prepare Data for Analysis \n",
      "\n",
      "    data wrangling step --- \n",
      "\n",
      "        get rid of uncertain dates (start dates) --- done\n",
      "\n",
      "        then perform a clean up of start and end dates --- done (could impute end dates)\n",
      "\n",
      "        convert dates to julian dates --- Done (start dates converted)\n",
      "\n",
      "        impute the VEI --- done\n",
      "\n",
      "        impute eruption length (to do) --- tonight by Sierra (12/3/2014)\n",
      "\n",
      "        merge eruptions and confirmed eruptions data frame --- done\n",
      "\n",
      "    Visualization Goal: \n",
      "        Output of DataFrame\n",
      "        plot the volcanoes on a map (with lat and long)\n",
      "        histogram on various features before and after data wrangling (to show changes if any)\n",
      "\n",
      "\n",
      "    F2PY --- done\n",
      "        import Fortran module --- done\n",
      "\n",
      "        calculate tidal forces for each eruption --- done\n",
      "\n",
      "        store data (via pickle) --- done\n",
      "\n",
      "        reload data --- done\n",
      "\n",
      "        merge dictionaries together --- done\n",
      "\n",
      "\n",
      "Determine Uniformity \n",
      "\t\n",
      "\tPerform Rayleigh Test\n",
      "\n",
      "\t\tGet phases of volcanic eruptions --- done\n",
      "\t\n",
      "\t\tplot these phases \n",
      "\n",
      "\t\timport Rayleigh module --- done\n",
      "\n",
      "\t\tcomment on the uniformity of volcanic eruptions\n",
      "\n",
      "    Visualization Goal: \n",
      "        curves showing volcanic eruption rates\n",
      "        curves/histogram showing various tidal forces\n",
      "        comment on their period and characteristics\n",
      "        uniform probability plot\n",
      "\n",
      "Determine Correlation of Tidal Forces to Volcanic Data --- Sierra by 12/3/2014\n",
      "\tDerive and Explain Correlation model\n",
      "\n",
      "\tDescribe parameters we will use\n",
      "\n",
      "\tCreate correlation model\n",
      "\n",
      "\tInput Data and Determine Result\n",
      "\n",
      "\tcomment on result and correlation between forces and volcanic eruptions\n",
      "\n",
      "    Visualization Goal: \n",
      "        Rose plot ( or linear histogram) --- Sierra by 12/3/2014?\n",
      "\n",
      "\n",
      "\n",
      "Feature Analysis: What types of volcanoes are most susceptible to these forces\n",
      "\n",
      "\tCreate a decision tree\n",
      "\t\n",
      "\tIterate through specific domain of features\n",
      "\n",
      "\tDetermine the correlation between subset of volcanoes associated with those features\n",
      "\n",
      "\tDetermine which features/domain of features are most predictive \n",
      "\n",
      "\tVisualization Goal:\n",
      "\t\thistograms\n",
      "\t\n",
      "\n",
      "Predictions\n",
      "\n",
      "\tPredict eruption rates based on volcanic features\n",
      "\n",
      "\tVisualization Goal:\n",
      "\t\tPlot showing linear boundaries and separation between the features \n",
      "\t\n"
     ]
    },
    {
     "cell_type": "code",
     "collapsed": false,
     "input": [
      "conf_erup['Julian Start Dates'].iloc[0:5]"
     ],
     "language": "python",
     "metadata": {},
     "outputs": [
      {
       "metadata": {},
       "output_type": "pyout",
       "prompt_number": 80,
       "text": [
        "0    2456777.5\n",
        "1    2448239.5\n",
        "2    2444024.5\n",
        "3    2456767.5\n",
        "4    2455826.5\n",
        "Name: Julian Start Dates, dtype: float64"
       ]
      }
     ],
     "prompt_number": 80
    },
    {
     "cell_type": "code",
     "collapsed": false,
     "input": [],
     "language": "python",
     "metadata": {},
     "outputs": []
    }
   ],
   "metadata": {}
  }
 ]
}