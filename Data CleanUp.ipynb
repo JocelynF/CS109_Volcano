{
 "metadata": {
  "name": "",
  "signature": "sha256:c4062f8c8367d10b80d15486cea84cff3e1f73aa88224a8f2405859605fb3bf9"
 },
 "nbformat": 3,
 "nbformat_minor": 0,
 "worksheets": [
  {
   "cells": [
    {
     "cell_type": "code",
     "collapsed": false,
     "input": [
      "import matplotlib.pyplot as plt\n",
      "import pandas as pd\n",
      "import numpy as np\n",
      "import cleanup\n",
      "import stats\n",
      "import tidal_forces\n",
      "\n",
      "%matplotlib inline"
     ],
     "language": "python",
     "metadata": {},
     "outputs": [],
     "prompt_number": 1
    },
    {
     "cell_type": "code",
     "collapsed": false,
     "input": [
      "eruptions = pd.io.excel.read_excel('Eruptions.xlsx', header = 1)\n",
      "volcanoes = pd.io.excel.read_excel('Volcanoes.xlsx', header = 1)\n",
      "#eruptions.head()"
     ],
     "language": "python",
     "metadata": {},
     "outputs": [],
     "prompt_number": 2
    },
    {
     "cell_type": "code",
     "collapsed": false,
     "input": [
      "#volcanoes.head()"
     ],
     "language": "python",
     "metadata": {},
     "outputs": [],
     "prompt_number": 3
    },
    {
     "cell_type": "code",
     "collapsed": false,
     "input": [
      "eruptions.columns"
     ],
     "language": "python",
     "metadata": {},
     "outputs": [
      {
       "metadata": {},
       "output_type": "pyout",
       "prompt_number": 4,
       "text": [
        "Index([u'Volcano Number', u'Volcano Name', u'Eruption Number', u'Eruption Category', u'Area of Activity', u'VEI', u'VEI Modifier', u'Start Year Modifier', u'Start Year', u'Start Year Uncertainty', u'Start Month', u'Start Day Modifier', u'Start Day', u'Start Day Uncertainty', u'Evidence Method (dating)', u'End Year Modifier', u'End Year', u'End Year Uncertainty', u'End Month', u'End Day Modifier', u'End Day', u'End Day Uncertainty'], dtype='object')"
       ]
      }
     ],
     "prompt_number": 4
    },
    {
     "cell_type": "code",
     "collapsed": false,
     "input": [
      "volcanoes.columns"
     ],
     "language": "python",
     "metadata": {},
     "outputs": [
      {
       "metadata": {},
       "output_type": "pyout",
       "prompt_number": 5,
       "text": [
        "Index([u'Volcano Number', u'Volcano Name', u'Country', u'Primary Volcano Type', u'Activity Evidence', u'Last Known Eruption', u'Region', u'Subregion', u'Latitude', u'Longitude', u'Elevation (m)', u'Dominant Rock Type', u'Tectonic Setting'], dtype='object')"
       ]
      }
     ],
     "prompt_number": 5
    },
    {
     "cell_type": "markdown",
     "metadata": {},
     "source": [
      "### Only explore confirmed eruptions"
     ]
    },
    {
     "cell_type": "code",
     "collapsed": false,
     "input": [
      "conf_erup = eruptions[eruptions['Eruption Category'] == 'Confirmed Eruption']\n",
      "print 'Amount of Confirmed Eruptions:', conf_erup.shape[0]"
     ],
     "language": "python",
     "metadata": {},
     "outputs": [
      {
       "output_type": "stream",
       "stream": "stdout",
       "text": [
        "Amount of Confirmed Eruptions: 9536\n"
       ]
      }
     ],
     "prompt_number": 6
    },
    {
     "cell_type": "code",
     "collapsed": false,
     "input": [
      "#conf_erup.head()"
     ],
     "language": "python",
     "metadata": {},
     "outputs": [],
     "prompt_number": 7
    },
    {
     "cell_type": "markdown",
     "metadata": {},
     "source": [
      "### Only explore eruptions with no uncertainty in the start day"
     ]
    },
    {
     "cell_type": "code",
     "collapsed": false,
     "input": [
      "print conf_erup['Start Day'].unique()\n",
      "print conf_erup['Start Month'].unique()\n",
      "## Notice that there are some zeroes and nans"
     ],
     "language": "python",
     "metadata": {},
     "outputs": [
      {
       "output_type": "stream",
       "stream": "stdout",
       "text": [
        "[ 27.  17.   6.  30.  29.  13.   3.   4.  22.  21.  31.  24.  26.   9.   8.\n",
        "   7.  28.  20.  18.  23.  12.  15.  25.  11.   2.   5.  16.  19.   1.  10.\n",
        "  14.   0.  nan]\n",
        "[  9.   8.   7.   6.   5.   4.   3.   2.   1.  12.  11.  10.   0.  nan]\n"
       ]
      }
     ],
     "prompt_number": 8
    },
    {
     "cell_type": "code",
     "collapsed": false,
     "input": [
      "conf_erup = conf_erup[(conf_erup['Start Month'] != 0) & (conf_erup['Start Day'] != 0)]\n",
      "conf_erup = cleanup.eliminate_nan(conf_erup, 'Start Day')\n",
      "conf_erup = cleanup.eliminate_nan(conf_erup, 'Start Month')"
     ],
     "language": "python",
     "metadata": {},
     "outputs": [],
     "prompt_number": 9
    },
    {
     "cell_type": "code",
     "collapsed": false,
     "input": [
      "print conf_erup['Start Day'].unique()\n",
      "print conf_erup['Start Month'].unique()"
     ],
     "language": "python",
     "metadata": {},
     "outputs": [
      {
       "output_type": "stream",
       "stream": "stdout",
       "text": [
        "[ 27.  17.   6.  30.  29.  13.   3.   4.  22.  21.  31.  24.  26.   9.   8.\n",
        "   7.  28.  20.  18.  23.  12.  15.  25.  11.   2.   5.  16.  19.   1.  10.\n",
        "  14.]\n",
        "[  9.   8.   7.   6.   5.   4.   3.   2.   1.  12.  11.  10.]\n"
       ]
      }
     ],
     "prompt_number": 10
    },
    {
     "cell_type": "code",
     "collapsed": false,
     "input": [
      "## Check uncertainty in dates\n",
      "\n",
      "print conf_erup['Start Day Uncertainty'].unique()\n",
      "print conf_erup['Start Year Uncertainty'].unique()\n",
      "print 'Number of Confirmed Eruptions with Start Days and Months:', conf_erup.shape[0]"
     ],
     "language": "python",
     "metadata": {},
     "outputs": [
      {
       "output_type": "stream",
       "stream": "stdout",
       "text": [
        "[  nan    2.    4.    3.    7.    5.    1.   12.   20.  150.  180.   30.\n",
        "   90.   15.    9.  365.   45.    8.  270.   75.   60.  120.   10.    6.\n",
        "  730.]\n",
        "[ nan  10.  13.]\n",
        "Number of Confirmed Eruptions with Start Days and Months: 3950\n"
       ]
      }
     ],
     "prompt_number": 11
    },
    {
     "cell_type": "code",
     "collapsed": false,
     "input": [
      "# Only accept nan's in uncertainty\n",
      "conf_erup = conf_erup[conf_erup['Start Day Uncertainty'].isnull()]\n",
      "conf_erup = conf_erup[conf_erup['Start Year Uncertainty'].isnull()]\n",
      "\n",
      "print 'Number of Confirmed Eruptions with No Uncertain Start Dates:', conf_erup.shape[0]"
     ],
     "language": "python",
     "metadata": {},
     "outputs": [
      {
       "output_type": "stream",
       "stream": "stdout",
       "text": [
        "Number of Confirmed Eruptions with No Uncertain Start Dates: 3624\n"
       ]
      }
     ],
     "prompt_number": 12
    },
    {
     "cell_type": "code",
     "collapsed": false,
     "input": [
      "print 'Number of Volcanoes In Confirmed Eruptions Dataset:', conf_erup['Volcano Number'].unique().shape[0]"
     ],
     "language": "python",
     "metadata": {},
     "outputs": [
      {
       "output_type": "stream",
       "stream": "stdout",
       "text": [
        "Number of Volcanoes In Confirmed Eruptions Dataset: 457\n"
       ]
      }
     ],
     "prompt_number": 13
    },
    {
     "cell_type": "heading",
     "level": 1,
     "metadata": {},
     "source": [
      "Volcano and Eruption Features"
     ]
    },
    {
     "cell_type": "code",
     "collapsed": false,
     "input": [
      "year_min = conf_erup['Start Year'].min()\n",
      "year_max = conf_erup['Start Year'].max()\n",
      "print 'Start Date Range:', year_max - year_min, 'years'"
     ],
     "language": "python",
     "metadata": {},
     "outputs": [
      {
       "output_type": "stream",
       "stream": "stdout",
       "text": [
        "Start Date Range: 1968 years\n"
       ]
      }
     ],
     "prompt_number": 14
    },
    {
     "cell_type": "code",
     "collapsed": false,
     "input": [
      "conf_erup['Start Year'].hist(figsize = (15,6), bins = 100, log=True)\n",
      "plt.xlim([0,2100])\n",
      "plt.show()\n",
      "\n",
      "#Values are highly skewed to more recent dates...as expected"
     ],
     "language": "python",
     "metadata": {},
     "outputs": [
      {
       "metadata": {},
       "output_type": "display_data",
       "png": "[encoded data removed]",
       "text": [
        "<matplotlib.figure.Figure at 0x131138d0>"
       ]
      }
     ],
     "prompt_number": 15
    },
    {
     "cell_type": "code",
     "collapsed": false,
     "input": [
      "#Convert dates --- 2 days are on 2/29, one of those days is not actually a leap year---raises error---changed date from 2/29 to 2/28\n",
      "from datetime import datetime\n",
      "conf_erup['Start Day'][6724] = 28\n",
      "conf_erup['Start Date'] = cleanup.convert_dates(conf_erup, 'Start Year', 'Start Month', 'Start Day')"
     ],
     "language": "python",
     "metadata": {},
     "outputs": [],
     "prompt_number": 16
    },
    {
     "cell_type": "code",
     "collapsed": false,
     "input": [
      "conf_erup['Julian Start Dates'] = cleanup.julian_date(conf_erup, 'Start Date')\n",
      "conf_erup['End Date'] = cleanup.convert_dates(conf_erup, 'End Year', 'End Month', 'End Day')"
     ],
     "language": "python",
     "metadata": {},
     "outputs": [],
     "prompt_number": 17
    },
    {
     "cell_type": "code",
     "collapsed": false,
     "input": [
      "# VEI\n",
      "print conf_erup['VEI'].unique()\n",
      "print 'Number of NaN VEI values:', conf_erup[conf_erup['VEI'].isnull()].shape[0]\n",
      "# only 68 out of 3624 eruptions --- will impute values"
     ],
     "language": "python",
     "metadata": {},
     "outputs": [
      {
       "output_type": "stream",
       "stream": "stdout",
       "text": [
        "[  3.   1.   2.  nan   0.   4.   5.   6.]\n",
        "Number of NaN VEI values: 68\n"
       ]
      }
     ],
     "prompt_number": 18
    },
    {
     "cell_type": "code",
     "collapsed": false,
     "input": [
      "#VEI is skewed slightly to lower values with most values at 2\n",
      "conf_erup['VEI'].hist(bins = 6)\n",
      "plt.show()"
     ],
     "language": "python",
     "metadata": {},
     "outputs": [
      {
       "metadata": {},
       "output_type": "display_data",
       "png": "[encoded data removed]",
       "text": [
        "<matplotlib.figure.Figure at 0x370aa58>"
       ]
      }
     ],
     "prompt_number": 19
    },
    {
     "cell_type": "code",
     "collapsed": false,
     "input": [
      "conf_erup['Impute VEI'] = cleanup.impute_vei(conf_erup,'VEI')"
     ],
     "language": "python",
     "metadata": {},
     "outputs": [],
     "prompt_number": 20
    },
    {
     "cell_type": "code",
     "collapsed": true,
     "input": [
      "conf_erup['Impute VEI'][0:10]"
     ],
     "language": "python",
     "metadata": {},
     "outputs": [
      {
       "metadata": {},
       "output_type": "pyout",
       "prompt_number": 21,
       "text": [
        "0     3\n",
        "1     1\n",
        "3     2\n",
        "4     2\n",
        "5     2\n",
        "6     0\n",
        "7     1\n",
        "8     2\n",
        "9     1\n",
        "10    1\n",
        "Name: Impute VEI, dtype: float64"
       ]
      }
     ],
     "prompt_number": 21
    },
    {
     "cell_type": "code",
     "collapsed": false,
     "input": [
      "#merge eruptions and volcanos\n",
      "conf_erup = pd.merge(conf_erup, volcanoes, on = ['Volcano Number'], how = 'left')"
     ],
     "language": "python",
     "metadata": {},
     "outputs": [],
     "prompt_number": 22
    },
    {
     "cell_type": "code",
     "collapsed": false,
     "input": [
      "#create tide dictionary with numpy array of tides as values and eruptions as keys\n",
      "tides_dict1 = tidal_forces.iter_tides(conf_erup[0:200], 'Julian Start Dates', 'Longitude', 'Latitude', 'Eruption Number')"
     ],
     "language": "python",
     "metadata": {},
     "outputs": [],
     "prompt_number": 23
    },
    {
     "cell_type": "code",
     "collapsed": false,
     "input": [
      "tides_dict2 = tidal_forces.iter_tides(conf_erup[201:400], 'Julian Start Dates', 'Longitude', 'Latitude', 'Eruption Number')"
     ],
     "language": "python",
     "metadata": {},
     "outputs": [],
     "prompt_number": 25
    },
    {
     "cell_type": "code",
     "collapsed": false,
     "input": [
      "tides_dict3 = tidal_forces.iter_tides(conf_erup[401:600], 'Julian Start Dates', 'Longitude', 'Latitude', 'Eruption Number')"
     ],
     "language": "python",
     "metadata": {},
     "outputs": [],
     "prompt_number": 26
    },
    {
     "cell_type": "code",
     "collapsed": false,
     "input": [
      "tides_dict4 = tidal_forces.iter_tides(conf_erup[401:600], 'Julian Start Dates', 'Longitude', 'Latitude', 'Eruption Number')"
     ],
     "language": "python",
     "metadata": {},
     "outputs": [
      {
       "output_type": "stream",
       "stream": "stderr",
       "text": [
        "C:\\Users\\Jocelyn\\Anaconda\\lib\\site-packages\\numpy\\lib\\npyio.py:819: UserWarning: loadtxt: Empty input file: \"out.txt\"\n",
        "  warnings.warn('loadtxt: Empty input file: \"%s\"' % fname)\n"
       ]
      }
     ]
    },
    {
     "cell_type": "code",
     "collapsed": false,
     "input": [
      "tides_dict5 = tidal_forces.iter_tides(conf_erup[601:800], 'Julian Start Dates', 'Longitude', 'Latitude', 'Eruption Number')"
     ],
     "language": "python",
     "metadata": {},
     "outputs": []
    },
    {
     "cell_type": "code",
     "collapsed": false,
     "input": [
      "tides_dict6 = tidal_forces.iter_tides(conf_erup[801:1000], 'Julian Start Dates', 'Longitude', 'Latitude', 'Eruption Number')"
     ],
     "language": "python",
     "metadata": {},
     "outputs": [],
     "prompt_number": 31
    },
    {
     "cell_type": "code",
     "collapsed": false,
     "input": [
      "tides_dict7 = tidal_forces.iter_tides(conf_erup[1001:1200], 'Julian Start Dates', 'Longitude', 'Latitude', 'Eruption Number')"
     ],
     "language": "python",
     "metadata": {},
     "outputs": [],
     "prompt_number": 32
    },
    {
     "cell_type": "code",
     "collapsed": false,
     "input": [
      "tides_dict8 = tidal_forces.iter_tides(conf_erup[1201:1400], 'Julian Start Dates', 'Longitude', 'Latitude', 'Eruption Number')"
     ],
     "language": "python",
     "metadata": {},
     "outputs": [],
     "prompt_number": 33
    },
    {
     "cell_type": "code",
     "collapsed": false,
     "input": [
      "tides_dict9 = tidal_forces.iter_tides(conf_erup[1401:1600], 'Julian Start Dates', 'Longitude', 'Latitude', 'Eruption Number')\n",
      "tides_dict10 = tidal_forces.iter_tides(conf_erup[1601:1800], 'Julian Start Dates', 'Longitude', 'Latitude', 'Eruption Number')\n",
      "tides_dict11 = tidal_forces.iter_tides(conf_erup[1801:2000], 'Julian Start Dates', 'Longitude', 'Latitude', 'Eruption Number')"
     ],
     "language": "python",
     "metadata": {},
     "outputs": [],
     "prompt_number": 34
    },
    {
     "cell_type": "code",
     "collapsed": false,
     "input": [
      "tides_dict12 = tidal_forces.iter_tides(conf_erup[2001:2200], 'Julian Start Dates', 'Longitude', 'Latitude', 'Eruption Number')\n",
      "tides_dict13 = tidal_forces.iter_tides(conf_erup[2201:2400], 'Julian Start Dates', 'Longitude', 'Latitude', 'Eruption Number')\n",
      "tides_dict14 = tidal_forces.iter_tides(conf_erup[2401:2600], 'Julian Start Dates', 'Longitude', 'Latitude', 'Eruption Number')"
     ],
     "language": "python",
     "metadata": {},
     "outputs": [],
     "prompt_number": 35
    },
    {
     "cell_type": "code",
     "collapsed": false,
     "input": [
      "tides_dict15 = tidal_forces.iter_tides(conf_erup[2601:2800], 'Julian Start Dates', 'Longitude', 'Latitude', 'Eruption Number')\n",
      "tides_dict16 = tidal_forces.iter_tides(conf_erup[2801:3000], 'Julian Start Dates', 'Longitude', 'Latitude', 'Eruption Number')"
     ],
     "language": "python",
     "metadata": {},
     "outputs": [],
     "prompt_number": 36
    },
    {
     "cell_type": "code",
     "collapsed": false,
     "input": [
      "tides_dict17 = tidal_forces.iter_tides(conf_erup[3001:3200], 'Julian Start Dates', 'Longitude', 'Latitude', 'Eruption Number')\n",
      "tides_dict18 = tidal_forces.iter_tides(conf_erup[3201:3400], 'Julian Start Dates', 'Longitude', 'Latitude', 'Eruption Number')\n",
      "tides_dict19 = tidal_forces.iter_tides(conf_erup[3401:], 'Julian Start Dates', 'Longitude', 'Latitude', 'Eruption Number')"
     ],
     "language": "python",
     "metadata": {},
     "outputs": [],
     "prompt_number": 37
    },
    {
     "cell_type": "code",
     "collapsed": false,
     "input": [
      "d1 = tides_dict1\n",
      "d2 = tides_dict2\n",
      "d3 = tides_dict3\n",
      "d4 = tides_dict4\n",
      "d5 = tides_dict5\n",
      "d6 = tides_dict6\n",
      "d7 = tides_dict7\n",
      "d8 = tides_dict8\n",
      "d9 = tides_dict9\n",
      "d10 = tides_dict10\n",
      "d11 = tides_dict11\n",
      "d12 = tides_dict12\n",
      "d13 = tides_dict13\n",
      "d14 = tides_dict14\n",
      "d15 = tides_dict15\n",
      "d16 = tides_dict16\n",
      "d17 = tides_dict17\n",
      "d18 = tides_dict18\n",
      "d19 = tides_dict19\n",
      "#merged_dict = {k:v for d in (d1,d2,d3,d4,d5,d6,d7,d8,d9,d10,d11,d12,d13,d14,d15,d16,d17,d18,d19) for k, v in d.iteritems()}"
     ],
     "language": "python",
     "metadata": {},
     "outputs": [],
     "prompt_number": 39
    },
    {
     "cell_type": "code",
     "collapsed": false,
     "input": [
      "for key in d10:\n",
      "    if len(d10[key]) == 0:\n",
      "        print key"
     ],
     "language": "python",
     "metadata": {},
     "outputs": [
      {
       "output_type": "stream",
       "stream": "stdout",
       "text": [
        "17750\n",
        "17731\n",
        "17751\n",
        "18446\n",
        "18447\n",
        "14168\n",
        "17753\n",
        "17755\n",
        "17724\n",
        "17732\n",
        "17574\n",
        "17759\n",
        "17801\n",
        "17760\n",
        "17733\n",
        "17716\n",
        "17762\n",
        "17763\n",
        "17721\n",
        "13943\n",
        "13944\n",
        "17728\n",
        "15503\n",
        "15504\n",
        "15508\n",
        "15509\n",
        "15510\n",
        "15511\n",
        "15515\n",
        "15516\n",
        "15517\n",
        "15518\n",
        "17719\n",
        "15525\n",
        "15526\n",
        "15528\n",
        "15529\n",
        "15531\n",
        "15532\n",
        "15533\n",
        "17805\n",
        "17725\n",
        "17597\n",
        "17598\n",
        "17600\n",
        "17783\n",
        "17785\n",
        "17786\n",
        "17788\n",
        "17790\n",
        "17773\n",
        "17791\n",
        "17795\n",
        "17710\n",
        "17688\n",
        "17689\n",
        "17692\n",
        "17693\n",
        "17694\n",
        "17695\n",
        "17696\n",
        "17697\n",
        "17700\n",
        "17701\n",
        "17702\n",
        "17703\n",
        "17704\n",
        "17705\n",
        "17706\n",
        "17708\n",
        "11054\n",
        "17711\n",
        "17712\n",
        "17713\n",
        "17714\n",
        "17715\n",
        "11060\n",
        "17717\n",
        "17718\n",
        "11063\n",
        "11064\n",
        "11065\n",
        "11066\n",
        "17723\n",
        "11068\n",
        "17802\n",
        "17726\n",
        "17727\n",
        "11072\n",
        "11073\n",
        "11074\n",
        "11075\n",
        "11076\n",
        "11077\n",
        "17734\n",
        "11080\n",
        "17804\n",
        "17738\n",
        "17739\n",
        "17741\n",
        "17742\n",
        "14733\n",
        "17744\n",
        "17745\n",
        "16211\n",
        "16212\n",
        "16213\n",
        "16214\n",
        "16215\n",
        "16216\n",
        "16217\n",
        "16219\n",
        "17756\n",
        "17722\n",
        "16223\n",
        "16224\n",
        "17761\n",
        "16226\n",
        "16227\n",
        "17764\n",
        "17766\n",
        "17809\n",
        "17768\n",
        "17769\n",
        "17770\n",
        "17771\n",
        "17772\n",
        "17810\n",
        "17774\n",
        "17775\n",
        "17776\n",
        "17777\n",
        "17779\n",
        "17780\n",
        "17781\n",
        "18807\n",
        "17784\n",
        "18809\n",
        "18810\n",
        "17787\n",
        "18812\n",
        "18814\n",
        "18815\n",
        "18816\n",
        "17793\n",
        "18818\n",
        "18819\n",
        "17796\n",
        "11653\n",
        "17798\n",
        "17799\n",
        "11656\n",
        "11657\n",
        "14730\n",
        "17803\n",
        "14732\n",
        "11661\n",
        "17806\n",
        "17807\n",
        "17808\n",
        "11665\n",
        "11666\n",
        "17811\n",
        "11668\n",
        "11669\n",
        "11670\n",
        "11672\n",
        "11673\n",
        "11674\n",
        "11675\n",
        "11676\n",
        "11677\n",
        "15774\n",
        "15775\n",
        "20384\n",
        "15777\n",
        "15778\n",
        "15779\n",
        "15780\n",
        "20389\n",
        "15782\n",
        "15783\n",
        "15784\n",
        "15785\n",
        "15786\n",
        "15788\n",
        "15789\n",
        "15790\n",
        "15792\n",
        "15793\n",
        "17812\n",
        "17729\n",
        "20387\n",
        "20388\n",
        "20390\n",
        "20391\n",
        "17730\n",
        "17748\n",
        "17749\n"
       ]
      }
     ],
     "prompt_number": 43
    },
    {
     "cell_type": "code",
     "collapsed": false,
     "input": [],
     "language": "python",
     "metadata": {},
     "outputs": []
    }
   ],
   "metadata": {}
  }
 ]
}