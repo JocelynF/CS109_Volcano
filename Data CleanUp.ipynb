{
 "metadata": {
  "name": "",
  "signature": "sha256:d50d5993195d08fe9e45cf2a804cf2a31d04d4be1065a4dbde0735e39d36f9ec"
 },
 "nbformat": 3,
 "nbformat_minor": 0,
 "worksheets": [
  {
   "cells": [
    {
     "cell_type": "code",
     "collapsed": false,
     "input": [
      "import matplotlib.pyplot as plt\n",
      "import pandas as pd\n",
      "import numpy as np\n",
      "import cleanup\n",
      "\n",
      "%matplotlib inline"
     ],
     "language": "python",
     "metadata": {},
     "outputs": [],
     "prompt_number": 1
    },
    {
     "cell_type": "code",
     "collapsed": false,
     "input": [
      "eruptions = pd.io.excel.read_excel('Eruptions.xlsx', header = 1)\n",
      "volcanoes = pd.io.excel.read_excel('Volcanoes.xlsx', header = 1)\n",
      "#eruptions.head()"
     ],
     "language": "python",
     "metadata": {},
     "outputs": [],
     "prompt_number": 2
    },
    {
     "cell_type": "code",
     "collapsed": false,
     "input": [
      "#volcanoes.head()"
     ],
     "language": "python",
     "metadata": {},
     "outputs": [],
     "prompt_number": 3
    },
    {
     "cell_type": "code",
     "collapsed": false,
     "input": [
      "eruptions.columns"
     ],
     "language": "python",
     "metadata": {},
     "outputs": [
      {
       "metadata": {},
       "output_type": "pyout",
       "prompt_number": 4,
       "text": [
        "Index([u'Volcano Number', u'Volcano Name', u'Eruption Number', u'Eruption Category', u'Area of Activity', u'VEI', u'VEI Modifier', u'Start Year Modifier', u'Start Year', u'Start Year Uncertainty', u'Start Month', u'Start Day Modifier', u'Start Day', u'Start Day Uncertainty', u'Evidence Method (dating)', u'End Year Modifier', u'End Year', u'End Year Uncertainty', u'End Month', u'End Day Modifier', u'End Day', u'End Day Uncertainty'], dtype='object')"
       ]
      }
     ],
     "prompt_number": 4
    },
    {
     "cell_type": "code",
     "collapsed": false,
     "input": [
      "volcanoes.columns"
     ],
     "language": "python",
     "metadata": {},
     "outputs": [
      {
       "metadata": {},
       "output_type": "pyout",
       "prompt_number": 5,
       "text": [
        "Index([u'Volcano Number', u'Volcano Name', u'Country', u'Primary Volcano Type', u'Activity Evidence', u'Last Known Eruption', u'Region', u'Subregion', u'Latitude', u'Longitude', u'Elevation (m)', u'Dominant Rock Type', u'Tectonic Setting'], dtype='object')"
       ]
      }
     ],
     "prompt_number": 5
    },
    {
     "cell_type": "markdown",
     "metadata": {},
     "source": [
      "### Only explore confirmed eruptions"
     ]
    },
    {
     "cell_type": "code",
     "collapsed": false,
     "input": [
      "conf_erup = eruptions[eruptions['Eruption Category'] == 'Confirmed Eruption']\n",
      "print 'Amount of Confirmed Eruptions:', conf_erup.shape[0]"
     ],
     "language": "python",
     "metadata": {},
     "outputs": [
      {
       "output_type": "stream",
       "stream": "stdout",
       "text": [
        "Amount of Confirmed Eruptions: 9536\n"
       ]
      }
     ],
     "prompt_number": 6
    },
    {
     "cell_type": "code",
     "collapsed": false,
     "input": [
      "#conf_erup.head()"
     ],
     "language": "python",
     "metadata": {},
     "outputs": [],
     "prompt_number": 7
    },
    {
     "cell_type": "markdown",
     "metadata": {},
     "source": [
      "### Only explore eruptions with no uncertainty in the start day"
     ]
    },
    {
     "cell_type": "code",
     "collapsed": false,
     "input": [
      "print conf_erup['Start Day'].unique()\n",
      "print conf_erup['Start Month'].unique()\n",
      "## Notice that there are some zeroes and nans"
     ],
     "language": "python",
     "metadata": {},
     "outputs": [
      {
       "output_type": "stream",
       "stream": "stdout",
       "text": [
        "[ 27.  17.   6.  30.  29.  13.   3.   4.  22.  21.  31.  24.  26.   9.   8.\n",
        "   7.  28.  20.  18.  23.  12.  15.  25.  11.   2.   5.  16.  19.   1.  10.\n",
        "  14.   0.  nan]\n",
        "[  9.   8.   7.   6.   5.   4.   3.   2.   1.  12.  11.  10.   0.  nan]\n"
       ]
      }
     ],
     "prompt_number": 8
    },
    {
     "cell_type": "code",
     "collapsed": false,
     "input": [
      "conf_erup = conf_erup[(conf_erup['Start Month'] != 0) & (conf_erup['Start Day'] != 0)]\n",
      "conf_erup = cleanup.eliminate_nan(conf_erup, 'Start Day')\n",
      "conf_erup = cleanup.eliminate_nan(conf_erup, 'Start Month')"
     ],
     "language": "python",
     "metadata": {},
     "outputs": [],
     "prompt_number": 9
    },
    {
     "cell_type": "code",
     "collapsed": false,
     "input": [
      "print conf_erup['Start Day'].unique()\n",
      "print conf_erup['Start Month'].unique()"
     ],
     "language": "python",
     "metadata": {},
     "outputs": [
      {
       "output_type": "stream",
       "stream": "stdout",
       "text": [
        "[ 27.  17.   6.  30.  29.  13.   3.   4.  22.  21.  31.  24.  26.   9.   8.\n",
        "   7.  28.  20.  18.  23.  12.  15.  25.  11.   2.   5.  16.  19.   1.  10.\n",
        "  14.]\n",
        "[  9.   8.   7.   6.   5.   4.   3.   2.   1.  12.  11.  10.]\n"
       ]
      }
     ],
     "prompt_number": 10
    },
    {
     "cell_type": "code",
     "collapsed": false,
     "input": [
      "## Check uncertainty in dates\n",
      "\n",
      "print conf_erup['Start Day Uncertainty'].unique()\n",
      "print conf_erup['Start Year Uncertainty'].unique()\n",
      "print 'Number of Confirmed Eruptions with Start Days and Months:', conf_erup.shape[0]"
     ],
     "language": "python",
     "metadata": {},
     "outputs": [
      {
       "output_type": "stream",
       "stream": "stdout",
       "text": [
        "[  nan    2.    4.    3.    7.    5.    1.   12.   20.  150.  180.   30.\n",
        "   90.   15.    9.  365.   45.    8.  270.   75.   60.  120.   10.    6.\n",
        "  730.]\n",
        "[ nan  10.  13.]\n",
        "Number of Confirmed Eruptions with Start Days and Months: 3950\n"
       ]
      }
     ],
     "prompt_number": 11
    },
    {
     "cell_type": "code",
     "collapsed": false,
     "input": [
      "# Only accept nan's in uncertainty\n",
      "conf_erup = conf_erup[conf_erup['Start Day Uncertainty'].isnull()]\n",
      "conf_erup = conf_erup[conf_erup['Start Year Uncertainty'].isnull()]\n",
      "\n",
      "print 'Number of Confirmed Eruptions with No Uncertain Start Dates:', conf_erup.shape[0]"
     ],
     "language": "python",
     "metadata": {},
     "outputs": [
      {
       "output_type": "stream",
       "stream": "stdout",
       "text": [
        "Number of Confirmed Eruptions with No Uncertain Start Dates: 3624\n"
       ]
      }
     ],
     "prompt_number": 12
    },
    {
     "cell_type": "code",
     "collapsed": false,
     "input": [
      "print 'Number of Volcanoes In Confirmed Eruptions Dataset:', conf_erup['Volcano Number'].unique().shape[0]"
     ],
     "language": "python",
     "metadata": {},
     "outputs": [
      {
       "output_type": "stream",
       "stream": "stdout",
       "text": [
        "Number of Volcanoes In Confirmed Eruptions Dataset: 457\n"
       ]
      }
     ],
     "prompt_number": 13
    },
    {
     "cell_type": "heading",
     "level": 1,
     "metadata": {},
     "source": [
      "Volcano and Eruption Features"
     ]
    },
    {
     "cell_type": "code",
     "collapsed": false,
     "input": [
      "year_min = conf_erup['Start Year'].min()\n",
      "year_max = conf_erup['Start Year'].max()\n",
      "print 'Start Date Range:', year_max - year_min, 'years'"
     ],
     "language": "python",
     "metadata": {},
     "outputs": [
      {
       "output_type": "stream",
       "stream": "stdout",
       "text": [
        "Start Date Range: 1968 years\n"
       ]
      }
     ],
     "prompt_number": 14
    },
    {
     "cell_type": "code",
     "collapsed": false,
     "input": [
      "conf_erup['Start Year'].hist(figsize = (15,6), bins = 100, log=True)\n",
      "plt.xlim([0,2100])\n",
      "plt.show()\n",
      "\n",
      "#Values are highly skewed to more recent dates...as expected"
     ],
     "language": "python",
     "metadata": {},
     "outputs": [
      {
       "metadata": {},
       "output_type": "display_data",
       "png": "[encoded data removed]",
       "text": [
        "<matplotlib.figure.Figure at 0x13ec7ac8>"
       ]
      }
     ],
     "prompt_number": 15
    },
    {
     "cell_type": "code",
     "collapsed": false,
     "input": [
      "#Convert dates --- 2 days are on 2/29, one of those days is not actually a leap year---raises error---changed date from 2/29 to 2/28\n",
      "from datetime import datetime\n",
      "conf_erup['Start Day'][6724] = 28\n",
      "conf_erup = cleanup.convert_dates(conf_erup, 'Start Year', 'Start Month', 'Start Day', 'Start Date')"
     ],
     "language": "python",
     "metadata": {},
     "outputs": [],
     "prompt_number": 16
    },
    {
     "cell_type": "code",
     "collapsed": false,
     "input": [
      "conf_erup = cleanup.julian_date(conf_erup, 'Start Date', 'Julian Start Dates')"
     ],
     "language": "python",
     "metadata": {},
     "outputs": [],
     "prompt_number": 17
    },
    {
     "cell_type": "code",
     "collapsed": false,
     "input": [
      "# VEI\n",
      "print conf_erup['VEI'].unique()\n",
      "print 'Number of NaN VEI values:', conf_erup[conf_erup['VEI'].isnull()].shape[0]\n",
      "# only 68 out of 3624 eruptions --- will impute values"
     ],
     "language": "python",
     "metadata": {},
     "outputs": [
      {
       "output_type": "stream",
       "stream": "stdout",
       "text": [
        "[  3.   1.   2.  nan   0.   4.   5.   6.]\n",
        "Number of NaN VEI values: 68\n"
       ]
      }
     ],
     "prompt_number": 18
    },
    {
     "cell_type": "code",
     "collapsed": false,
     "input": [
      "#VEI is skewed slightly to lower values with most values at 2\n",
      "conf_erup['VEI'].hist(bins = 6)\n",
      "plt.show()"
     ],
     "language": "python",
     "metadata": {},
     "outputs": [
      {
       "metadata": {},
       "output_type": "display_data",
       "png": "[encoded data removed]",
       "text": [
        "<matplotlib.figure.Figure at 0x13d0ee48>"
       ]
      }
     ],
     "prompt_number": 43
    },
    {
     "cell_type": "code",
     "collapsed": false,
     "input": [
      "conf_erup['Impute VEI'] = cleanup.impute_vei(conf_erup,'VEI')"
     ],
     "language": "python",
     "metadata": {},
     "outputs": [],
     "prompt_number": 59
    },
    {
     "cell_type": "code",
     "collapsed": true,
     "input": [
      "conf_erup['Impute VEI'][0:10]"
     ],
     "language": "python",
     "metadata": {},
     "outputs": [
      {
       "metadata": {},
       "output_type": "pyout",
       "prompt_number": 60,
       "text": [
        "0     3.000000\n",
        "1     1.000000\n",
        "3     2.000000\n",
        "4     2.000000\n",
        "5     1.909168\n",
        "6     0.000000\n",
        "7     1.000000\n",
        "8     1.909168\n",
        "9     1.000000\n",
        "10    1.000000\n",
        "Name: Impute VEI, dtype: float64"
       ]
      }
     ],
     "prompt_number": 60
    },
    {
     "cell_type": "code",
     "collapsed": false,
     "input": [],
     "language": "python",
     "metadata": {},
     "outputs": [
      {
       "ename": "ValueError",
       "evalue": "Series lengths must match to compare",
       "output_type": "pyerr",
       "traceback": [
        "\u001b[1;31m---------------------------------------------------------------------------\u001b[0m\n\u001b[1;31mValueError\u001b[0m                                Traceback (most recent call last)",
        "\u001b[1;32m<ipython-input-64-c7b8e406fa38>\u001b[0m in \u001b[0;36m<module>\u001b[1;34m()\u001b[0m\n\u001b[1;32m----> 1\u001b[1;33m \u001b[0mvolcanoes\u001b[0m\u001b[1;33m[\u001b[0m\u001b[0mvolcanoes\u001b[0m\u001b[1;33m[\u001b[0m\u001b[1;34m'Volcano Number'\u001b[0m\u001b[1;33m]\u001b[0m\u001b[1;33m==\u001b[0m\u001b[0mconf_erup\u001b[0m\u001b[1;33m[\u001b[0m\u001b[1;34m'Volcano Number'\u001b[0m\u001b[1;33m]\u001b[0m\u001b[1;33m]\u001b[0m\u001b[1;33m\u001b[0m\u001b[0m\n\u001b[0m",
        "\u001b[1;32mC:\\Users\\Jocelyn\\Anaconda\\lib\\site-packages\\pandas\\core\\ops.pyc\u001b[0m in \u001b[0;36mwrapper\u001b[1;34m(self, other)\u001b[0m\n\u001b[0;32m    549\u001b[0m             \u001b[0mname\u001b[0m \u001b[1;33m=\u001b[0m \u001b[0m_maybe_match_name\u001b[0m\u001b[1;33m(\u001b[0m\u001b[0mself\u001b[0m\u001b[1;33m,\u001b[0m \u001b[0mother\u001b[0m\u001b[1;33m)\u001b[0m\u001b[1;33m\u001b[0m\u001b[0m\n\u001b[0;32m    550\u001b[0m             \u001b[1;32mif\u001b[0m \u001b[0mlen\u001b[0m\u001b[1;33m(\u001b[0m\u001b[0mself\u001b[0m\u001b[1;33m)\u001b[0m \u001b[1;33m!=\u001b[0m \u001b[0mlen\u001b[0m\u001b[1;33m(\u001b[0m\u001b[0mother\u001b[0m\u001b[1;33m)\u001b[0m\u001b[1;33m:\u001b[0m\u001b[1;33m\u001b[0m\u001b[0m\n\u001b[1;32m--> 551\u001b[1;33m                 \u001b[1;32mraise\u001b[0m \u001b[0mValueError\u001b[0m\u001b[1;33m(\u001b[0m\u001b[1;34m'Series lengths must match to compare'\u001b[0m\u001b[1;33m)\u001b[0m\u001b[1;33m\u001b[0m\u001b[0m\n\u001b[0m\u001b[0;32m    552\u001b[0m             return self._constructor(na_op(self.values, other.values),\n\u001b[0;32m    553\u001b[0m                                      index=self.index, name=name)\n",
        "\u001b[1;31mValueError\u001b[0m: Series lengths must match to compare"
       ]
      }
     ],
     "prompt_number": 64
    },
    {
     "cell_type": "code",
     "collapsed": false,
     "input": [
      "df = conf_erup\n",
      "\n",
      "df[(df['Start Month']==2)&(df['Start Day']==29)]"
     ],
     "language": "python",
     "metadata": {},
     "outputs": [
      {
       "html": [
        "<div style=\"max-height:1000px;max-width:1500px;overflow:auto;\">\n",
        "<table border=\"1\" class=\"dataframe\">\n",
        "  <thead>\n",
        "    <tr style=\"text-align: right;\">\n",
        "      <th></th>\n",
        "      <th>Volcano Number</th>\n",
        "      <th>Volcano Name</th>\n",
        "      <th>Eruption Number</th>\n",
        "      <th>Eruption Category</th>\n",
        "      <th>Area of Activity</th>\n",
        "      <th>VEI</th>\n",
        "      <th>VEI Modifier</th>\n",
        "      <th>Start Year Modifier</th>\n",
        "      <th>Start Year</th>\n",
        "      <th>Start Year Uncertainty</th>\n",
        "      <th>...</th>\n",
        "      <th>Start Day</th>\n",
        "      <th>Start Day Uncertainty</th>\n",
        "      <th>Evidence Method (dating)</th>\n",
        "      <th>End Year Modifier</th>\n",
        "      <th>End Year</th>\n",
        "      <th>End Year Uncertainty</th>\n",
        "      <th>End Month</th>\n",
        "      <th>End Day Modifier</th>\n",
        "      <th>End Day</th>\n",
        "      <th>End Day Uncertainty</th>\n",
        "    </tr>\n",
        "  </thead>\n",
        "  <tbody>\n",
        "    <tr>\n",
        "      <th>2519</th>\n",
        "      <td> 255020</td>\n",
        "      <td>        Bagana</td>\n",
        "      <td> 15128</td>\n",
        "      <td> Confirmed Eruption</td>\n",
        "      <td>    NaN</td>\n",
        "      <td> 4</td>\n",
        "      <td> NaN</td>\n",
        "      <td> NaN</td>\n",
        "      <td> 1952</td>\n",
        "      <td>NaN</td>\n",
        "      <td>...</td>\n",
        "      <td> 29</td>\n",
        "      <td>NaN</td>\n",
        "      <td> Historical Observations</td>\n",
        "      <td> NaN</td>\n",
        "      <td> 1952</td>\n",
        "      <td>NaN</td>\n",
        "      <td> 10</td>\n",
        "      <td> NaN</td>\n",
        "      <td>  0</td>\n",
        "      <td>NaN</td>\n",
        "    </tr>\n",
        "    <tr>\n",
        "      <th>6724</th>\n",
        "      <td> 282090</td>\n",
        "      <td> Kirishimayama</td>\n",
        "      <td> 17130</td>\n",
        "      <td> Confirmed Eruption</td>\n",
        "      <td> Ohachi</td>\n",
        "      <td> 2</td>\n",
        "      <td>   ?</td>\n",
        "      <td> NaN</td>\n",
        "      <td> 1678</td>\n",
        "      <td>NaN</td>\n",
        "      <td>...</td>\n",
        "      <td> 29</td>\n",
        "      <td>NaN</td>\n",
        "      <td> Historical Observations</td>\n",
        "      <td> NaN</td>\n",
        "      <td>  NaN</td>\n",
        "      <td>NaN</td>\n",
        "      <td>NaN</td>\n",
        "      <td> NaN</td>\n",
        "      <td>NaN</td>\n",
        "      <td>NaN</td>\n",
        "    </tr>\n",
        "  </tbody>\n",
        "</table>\n",
        "<p>2 rows \u00d7 22 columns</p>\n",
        "</div>"
       ],
       "metadata": {},
       "output_type": "pyout",
       "prompt_number": 24,
       "text": [
        "      Volcano Number   Volcano Name  Eruption Number   Eruption Category  \\\n",
        "2519          255020         Bagana            15128  Confirmed Eruption   \n",
        "6724          282090  Kirishimayama            17130  Confirmed Eruption   \n",
        "\n",
        "     Area of Activity  VEI VEI Modifier Start Year Modifier  Start Year  \\\n",
        "2519              NaN    4          NaN                 NaN        1952   \n",
        "6724           Ohachi    2            ?                 NaN        1678   \n",
        "\n",
        "      Start Year Uncertainty           ...            Start Day  \\\n",
        "2519                     NaN           ...                   29   \n",
        "6724                     NaN           ...                   29   \n",
        "\n",
        "     Start Day Uncertainty  Evidence Method (dating)  End Year Modifier  \\\n",
        "2519                   NaN   Historical Observations                NaN   \n",
        "6724                   NaN   Historical Observations                NaN   \n",
        "\n",
        "     End Year End Year Uncertainty  End Month  End Day Modifier  End Day  \\\n",
        "2519     1952                  NaN         10               NaN        0   \n",
        "6724      NaN                  NaN        NaN               NaN      NaN   \n",
        "\n",
        "     End Day Uncertainty  \n",
        "2519                 NaN  \n",
        "6724                 NaN  \n",
        "\n",
        "[2 rows x 22 columns]"
       ]
      }
     ],
     "prompt_number": 24
    },
    {
     "cell_type": "code",
     "collapsed": false,
     "input": [
      "eruptions[(eruptions['Start Month']==2)&(eruptions['Start Day']==29)]\n",
      "eruptions.loc[2519]['Start Year']"
     ],
     "language": "python",
     "metadata": {},
     "outputs": [
      {
       "metadata": {},
       "output_type": "pyout",
       "prompt_number": 26,
       "text": [
        "1952"
       ]
      }
     ],
     "prompt_number": 26
    },
    {
     "cell_type": "code",
     "collapsed": false,
     "input": [
      "conf_erup['Start Day'][6724]\n"
     ],
     "language": "python",
     "metadata": {},
     "outputs": [
      {
       "metadata": {},
       "output_type": "pyout",
       "prompt_number": 28,
       "text": [
        "29.0"
       ]
      }
     ],
     "prompt_number": 28
    },
    {
     "cell_type": "code",
     "collapsed": false,
     "input": [
      "eruptions[(eruptions['End Month']==2) & (eruptions['End Day']==29)]"
     ],
     "language": "python",
     "metadata": {},
     "outputs": [
      {
       "html": [
        "<div style=\"max-height:1000px;max-width:1500px;overflow:auto;\">\n",
        "<table border=\"1\" class=\"dataframe\">\n",
        "  <thead>\n",
        "    <tr style=\"text-align: right;\">\n",
        "      <th></th>\n",
        "      <th>Volcano Number</th>\n",
        "      <th>Volcano Name</th>\n",
        "      <th>Eruption Number</th>\n",
        "      <th>Eruption Category</th>\n",
        "      <th>Area of Activity</th>\n",
        "      <th>VEI</th>\n",
        "      <th>VEI Modifier</th>\n",
        "      <th>Start Year Modifier</th>\n",
        "      <th>Start Year</th>\n",
        "      <th>Start Year Uncertainty</th>\n",
        "      <th>...</th>\n",
        "      <th>Start Day</th>\n",
        "      <th>Start Day Uncertainty</th>\n",
        "      <th>Evidence Method (dating)</th>\n",
        "      <th>End Year Modifier</th>\n",
        "      <th>End Year</th>\n",
        "      <th>End Year Uncertainty</th>\n",
        "      <th>End Month</th>\n",
        "      <th>End Day Modifier</th>\n",
        "      <th>End Day</th>\n",
        "      <th>End Day Uncertainty</th>\n",
        "    </tr>\n",
        "  </thead>\n",
        "  <tbody>\n",
        "    <tr>\n",
        "      <th>4372</th>\n",
        "      <td> 273030</td>\n",
        "      <td> Mayon</td>\n",
        "      <td> 16790</td>\n",
        "      <td> Confirmed Eruption</td>\n",
        "      <td> NaN</td>\n",
        "      <td> 2</td>\n",
        "      <td> NaN</td>\n",
        "      <td> NaN</td>\n",
        "      <td> 1891</td>\n",
        "      <td>NaN</td>\n",
        "      <td>...</td>\n",
        "      <td> 3</td>\n",
        "      <td>NaN</td>\n",
        "      <td> Historical Observations</td>\n",
        "      <td> NaN</td>\n",
        "      <td> 1892</td>\n",
        "      <td>NaN</td>\n",
        "      <td> 2</td>\n",
        "      <td> NaN</td>\n",
        "      <td> 29</td>\n",
        "      <td>NaN</td>\n",
        "    </tr>\n",
        "  </tbody>\n",
        "</table>\n",
        "<p>1 rows \u00d7 22 columns</p>\n",
        "</div>"
       ],
       "metadata": {},
       "output_type": "pyout",
       "prompt_number": 4,
       "text": [
        "      Volcano Number Volcano Name  Eruption Number   Eruption Category  \\\n",
        "4372          273030        Mayon            16790  Confirmed Eruption   \n",
        "\n",
        "     Area of Activity  VEI VEI Modifier Start Year Modifier  Start Year  \\\n",
        "4372              NaN    2          NaN                 NaN        1891   \n",
        "\n",
        "      Start Year Uncertainty           ...            Start Day  \\\n",
        "4372                     NaN           ...                    3   \n",
        "\n",
        "     Start Day Uncertainty  Evidence Method (dating)  End Year Modifier  \\\n",
        "4372                   NaN   Historical Observations                NaN   \n",
        "\n",
        "     End Year End Year Uncertainty  End Month  End Day Modifier  End Day  \\\n",
        "4372     1892                  NaN          2               NaN       29   \n",
        "\n",
        "     End Day Uncertainty  \n",
        "4372                 NaN  \n",
        "\n",
        "[1 rows x 22 columns]"
       ]
      }
     ],
     "prompt_number": 4
    },
    {
     "cell_type": "code",
     "collapsed": false,
     "input": [
      "import astropy.time\n",
      "\n",
      "astropy.time.TimeJD(conf_erup['Start Date'].iloc[0])"
     ],
     "language": "python",
     "metadata": {},
     "outputs": [
      {
       "ename": "TypeError",
       "evalue": "__init__() takes at least 7 arguments (2 given)",
       "output_type": "pyerr",
       "traceback": [
        "\u001b[1;31m---------------------------------------------------------------------------\u001b[0m\n\u001b[1;31mTypeError\u001b[0m                                 Traceback (most recent call last)",
        "\u001b[1;32m<ipython-input-20-ebbcb9ee9266>\u001b[0m in \u001b[0;36m<module>\u001b[1;34m()\u001b[0m\n\u001b[0;32m      1\u001b[0m \u001b[1;32mimport\u001b[0m \u001b[0mastropy\u001b[0m\u001b[1;33m.\u001b[0m\u001b[0mtime\u001b[0m\u001b[1;33m\u001b[0m\u001b[0m\n\u001b[0;32m      2\u001b[0m \u001b[1;33m\u001b[0m\u001b[0m\n\u001b[1;32m----> 3\u001b[1;33m \u001b[0mastropy\u001b[0m\u001b[1;33m.\u001b[0m\u001b[0mtime\u001b[0m\u001b[1;33m.\u001b[0m\u001b[0mTimeJD\u001b[0m\u001b[1;33m(\u001b[0m\u001b[0mconf_erup\u001b[0m\u001b[1;33m[\u001b[0m\u001b[1;34m'Start Date'\u001b[0m\u001b[1;33m]\u001b[0m\u001b[1;33m.\u001b[0m\u001b[0miloc\u001b[0m\u001b[1;33m[\u001b[0m\u001b[1;36m0\u001b[0m\u001b[1;33m]\u001b[0m\u001b[1;33m)\u001b[0m\u001b[1;33m\u001b[0m\u001b[0m\n\u001b[0m",
        "\u001b[1;31mTypeError\u001b[0m: __init__() takes at least 7 arguments (2 given)"
       ]
      }
     ],
     "prompt_number": 20
    },
    {
     "cell_type": "code",
     "collapsed": false,
     "input": [
      "conf_erup['Start Date'].unique().shape"
     ],
     "language": "python",
     "metadata": {},
     "outputs": [
      {
       "metadata": {},
       "output_type": "pyout",
       "prompt_number": 18,
       "text": [
        "(3504L,)"
       ]
      }
     ],
     "prompt_number": 18
    },
    {
     "cell_type": "code",
     "collapsed": false,
     "input": [
      "conf_erup['Start Date'].shape"
     ],
     "language": "python",
     "metadata": {},
     "outputs": [
      {
       "metadata": {},
       "output_type": "pyout",
       "prompt_number": 19,
       "text": [
        "(3624,)"
       ]
      }
     ],
     "prompt_number": 19
    },
    {
     "cell_type": "code",
     "collapsed": false,
     "input": [
      "import astropy.time\n",
      "\n",
      "astropy.time.Time(conf_erup['Start Date'],scale = 'tt').jd"
     ],
     "language": "python",
     "metadata": {},
     "outputs": [
      {
       "metadata": {},
       "output_type": "pyout",
       "prompt_number": 25,
       "text": [
        "array([ 2456927.5,  2456917.5,  2456906.5, ...,  1813131.5,  1750210.5,\n",
        "        1738225.5])"
       ]
      }
     ],
     "prompt_number": 25
    },
    {
     "cell_type": "code",
     "collapsed": false,
     "input": [
      "conf_erup['Julian Dates']"
     ],
     "language": "python",
     "metadata": {},
     "outputs": [
      {
       "metadata": {},
       "output_type": "pyout",
       "prompt_number": 20,
       "text": [
        "0     2456927.5\n",
        "1     2456917.5\n",
        "3     2456906.5\n",
        "4     2456899.5\n",
        "5     2456898.5\n",
        "6     2456898.5\n",
        "7     2456882.5\n",
        "8     2456882.5\n",
        "9     2456872.5\n",
        "10    2456842.5\n",
        "11    2456830.5\n",
        "12    2456829.5\n",
        "14    2456814.5\n",
        "15    2456808.5\n",
        "16    2456807.5\n",
        "...\n",
        "7952    2036792.5\n",
        "7966    2033233.5\n",
        "7989    2027346.5\n",
        "7991    2026914.5\n",
        "7993    2025115.5\n",
        "8018    2013354.5\n",
        "8034    2008978.5\n",
        "8049    2001035.5\n",
        "8065    1992430.5\n",
        "8112    1971218.5\n",
        "8216    1908252.5\n",
        "8236    1893763.5\n",
        "8350    1813131.5\n",
        "8480    1750210.5\n",
        "8508    1738225.5\n",
        "Name: Julian Dates, Length: 3624, dtype: float64"
       ]
      }
     ],
     "prompt_number": 20
    },
    {
     "cell_type": "code",
     "collapsed": false,
     "input": [],
     "language": "python",
     "metadata": {},
     "outputs": []
    }
   ],
   "metadata": {}
  }
 ]
}